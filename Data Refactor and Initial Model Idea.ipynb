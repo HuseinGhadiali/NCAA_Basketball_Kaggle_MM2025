{
 "cells": [
  {
   "cell_type": "markdown",
   "metadata": {},
   "source": [
    "# EDA and Experiments on Mens Data Only"
   ]
  },
  {
   "cell_type": "code",
   "execution_count": 1,
   "metadata": {},
   "outputs": [],
   "source": [
    "import pandas as pd\n",
    "import seaborn as sns\n",
    "import matplotlib.pyplot as plt\n",
    "import warnings \n",
    "warnings.filterwarnings('ignore')"
   ]
  },
  {
   "cell_type": "markdown",
   "metadata": {},
   "source": [
    "# Loading the datasets"
   ]
  },
  {
   "cell_type": "code",
   "execution_count": 2,
   "metadata": {},
   "outputs": [],
   "source": [
    "m_teams = pd.read_csv('MTeams.csv')\n",
    "m_compact_results = pd.read_csv('MRegularSeasonCompactResults.csv')\n",
    "m_detailed_results = pd.read_csv('MRegularSeasonDetailedResults.csv')\n"
   ]
  },
  {
   "cell_type": "code",
   "execution_count": 3,
   "metadata": {},
   "outputs": [
    {
     "data": {
      "text/html": [
       "<div>\n",
       "<style scoped>\n",
       "    .dataframe tbody tr th:only-of-type {\n",
       "        vertical-align: middle;\n",
       "    }\n",
       "\n",
       "    .dataframe tbody tr th {\n",
       "        vertical-align: top;\n",
       "    }\n",
       "\n",
       "    .dataframe thead th {\n",
       "        text-align: right;\n",
       "    }\n",
       "</style>\n",
       "<table border=\"1\" class=\"dataframe\">\n",
       "  <thead>\n",
       "    <tr style=\"text-align: right;\">\n",
       "      <th></th>\n",
       "      <th>TeamID</th>\n",
       "      <th>TeamName</th>\n",
       "      <th>FirstD1Season</th>\n",
       "      <th>LastD1Season</th>\n",
       "    </tr>\n",
       "  </thead>\n",
       "  <tbody>\n",
       "    <tr>\n",
       "      <th>0</th>\n",
       "      <td>1101</td>\n",
       "      <td>Abilene Chr</td>\n",
       "      <td>2014</td>\n",
       "      <td>2025</td>\n",
       "    </tr>\n",
       "    <tr>\n",
       "      <th>1</th>\n",
       "      <td>1102</td>\n",
       "      <td>Air Force</td>\n",
       "      <td>1985</td>\n",
       "      <td>2025</td>\n",
       "    </tr>\n",
       "    <tr>\n",
       "      <th>2</th>\n",
       "      <td>1103</td>\n",
       "      <td>Akron</td>\n",
       "      <td>1985</td>\n",
       "      <td>2025</td>\n",
       "    </tr>\n",
       "    <tr>\n",
       "      <th>3</th>\n",
       "      <td>1104</td>\n",
       "      <td>Alabama</td>\n",
       "      <td>1985</td>\n",
       "      <td>2025</td>\n",
       "    </tr>\n",
       "    <tr>\n",
       "      <th>4</th>\n",
       "      <td>1105</td>\n",
       "      <td>Alabama A&amp;M</td>\n",
       "      <td>2000</td>\n",
       "      <td>2025</td>\n",
       "    </tr>\n",
       "  </tbody>\n",
       "</table>\n",
       "</div>"
      ],
      "text/plain": [
       "   TeamID     TeamName  FirstD1Season  LastD1Season\n",
       "0    1101  Abilene Chr           2014          2025\n",
       "1    1102    Air Force           1985          2025\n",
       "2    1103        Akron           1985          2025\n",
       "3    1104      Alabama           1985          2025\n",
       "4    1105  Alabama A&M           2000          2025"
      ]
     },
     "execution_count": 3,
     "metadata": {},
     "output_type": "execute_result"
    }
   ],
   "source": [
    "m_teams.head()"
   ]
  },
  {
   "cell_type": "code",
   "execution_count": 4,
   "metadata": {},
   "outputs": [
    {
     "data": {
      "text/html": [
       "<div>\n",
       "<style scoped>\n",
       "    .dataframe tbody tr th:only-of-type {\n",
       "        vertical-align: middle;\n",
       "    }\n",
       "\n",
       "    .dataframe tbody tr th {\n",
       "        vertical-align: top;\n",
       "    }\n",
       "\n",
       "    .dataframe thead th {\n",
       "        text-align: right;\n",
       "    }\n",
       "</style>\n",
       "<table border=\"1\" class=\"dataframe\">\n",
       "  <thead>\n",
       "    <tr style=\"text-align: right;\">\n",
       "      <th></th>\n",
       "      <th>Season</th>\n",
       "      <th>DayNum</th>\n",
       "      <th>WTeamID</th>\n",
       "      <th>WScore</th>\n",
       "      <th>LTeamID</th>\n",
       "      <th>LScore</th>\n",
       "      <th>WLoc</th>\n",
       "      <th>NumOT</th>\n",
       "    </tr>\n",
       "  </thead>\n",
       "  <tbody>\n",
       "    <tr>\n",
       "      <th>0</th>\n",
       "      <td>1985</td>\n",
       "      <td>20</td>\n",
       "      <td>1228</td>\n",
       "      <td>81</td>\n",
       "      <td>1328</td>\n",
       "      <td>64</td>\n",
       "      <td>N</td>\n",
       "      <td>0</td>\n",
       "    </tr>\n",
       "    <tr>\n",
       "      <th>1</th>\n",
       "      <td>1985</td>\n",
       "      <td>25</td>\n",
       "      <td>1106</td>\n",
       "      <td>77</td>\n",
       "      <td>1354</td>\n",
       "      <td>70</td>\n",
       "      <td>H</td>\n",
       "      <td>0</td>\n",
       "    </tr>\n",
       "    <tr>\n",
       "      <th>2</th>\n",
       "      <td>1985</td>\n",
       "      <td>25</td>\n",
       "      <td>1112</td>\n",
       "      <td>63</td>\n",
       "      <td>1223</td>\n",
       "      <td>56</td>\n",
       "      <td>H</td>\n",
       "      <td>0</td>\n",
       "    </tr>\n",
       "    <tr>\n",
       "      <th>3</th>\n",
       "      <td>1985</td>\n",
       "      <td>25</td>\n",
       "      <td>1165</td>\n",
       "      <td>70</td>\n",
       "      <td>1432</td>\n",
       "      <td>54</td>\n",
       "      <td>H</td>\n",
       "      <td>0</td>\n",
       "    </tr>\n",
       "    <tr>\n",
       "      <th>4</th>\n",
       "      <td>1985</td>\n",
       "      <td>25</td>\n",
       "      <td>1192</td>\n",
       "      <td>86</td>\n",
       "      <td>1447</td>\n",
       "      <td>74</td>\n",
       "      <td>H</td>\n",
       "      <td>0</td>\n",
       "    </tr>\n",
       "  </tbody>\n",
       "</table>\n",
       "</div>"
      ],
      "text/plain": [
       "   Season  DayNum  WTeamID  WScore  LTeamID  LScore WLoc  NumOT\n",
       "0    1985      20     1228      81     1328      64    N      0\n",
       "1    1985      25     1106      77     1354      70    H      0\n",
       "2    1985      25     1112      63     1223      56    H      0\n",
       "3    1985      25     1165      70     1432      54    H      0\n",
       "4    1985      25     1192      86     1447      74    H      0"
      ]
     },
     "execution_count": 4,
     "metadata": {},
     "output_type": "execute_result"
    }
   ],
   "source": [
    "m_compact_results.head()"
   ]
  },
  {
   "cell_type": "code",
   "execution_count": 5,
   "metadata": {},
   "outputs": [
    {
     "data": {
      "text/html": [
       "<div>\n",
       "<style scoped>\n",
       "    .dataframe tbody tr th:only-of-type {\n",
       "        vertical-align: middle;\n",
       "    }\n",
       "\n",
       "    .dataframe tbody tr th {\n",
       "        vertical-align: top;\n",
       "    }\n",
       "\n",
       "    .dataframe thead th {\n",
       "        text-align: right;\n",
       "    }\n",
       "</style>\n",
       "<table border=\"1\" class=\"dataframe\">\n",
       "  <thead>\n",
       "    <tr style=\"text-align: right;\">\n",
       "      <th></th>\n",
       "      <th>Season</th>\n",
       "      <th>DayNum</th>\n",
       "      <th>WTeamID</th>\n",
       "      <th>WScore</th>\n",
       "      <th>LTeamID</th>\n",
       "      <th>LScore</th>\n",
       "      <th>WLoc</th>\n",
       "      <th>NumOT</th>\n",
       "      <th>WFGM</th>\n",
       "      <th>WFGA</th>\n",
       "      <th>...</th>\n",
       "      <th>LFGA3</th>\n",
       "      <th>LFTM</th>\n",
       "      <th>LFTA</th>\n",
       "      <th>LOR</th>\n",
       "      <th>LDR</th>\n",
       "      <th>LAst</th>\n",
       "      <th>LTO</th>\n",
       "      <th>LStl</th>\n",
       "      <th>LBlk</th>\n",
       "      <th>LPF</th>\n",
       "    </tr>\n",
       "  </thead>\n",
       "  <tbody>\n",
       "    <tr>\n",
       "      <th>0</th>\n",
       "      <td>2003</td>\n",
       "      <td>10</td>\n",
       "      <td>1104</td>\n",
       "      <td>68</td>\n",
       "      <td>1328</td>\n",
       "      <td>62</td>\n",
       "      <td>N</td>\n",
       "      <td>0</td>\n",
       "      <td>27</td>\n",
       "      <td>58</td>\n",
       "      <td>...</td>\n",
       "      <td>10</td>\n",
       "      <td>16</td>\n",
       "      <td>22</td>\n",
       "      <td>10</td>\n",
       "      <td>22</td>\n",
       "      <td>8</td>\n",
       "      <td>18</td>\n",
       "      <td>9</td>\n",
       "      <td>2</td>\n",
       "      <td>20</td>\n",
       "    </tr>\n",
       "    <tr>\n",
       "      <th>1</th>\n",
       "      <td>2003</td>\n",
       "      <td>10</td>\n",
       "      <td>1272</td>\n",
       "      <td>70</td>\n",
       "      <td>1393</td>\n",
       "      <td>63</td>\n",
       "      <td>N</td>\n",
       "      <td>0</td>\n",
       "      <td>26</td>\n",
       "      <td>62</td>\n",
       "      <td>...</td>\n",
       "      <td>24</td>\n",
       "      <td>9</td>\n",
       "      <td>20</td>\n",
       "      <td>20</td>\n",
       "      <td>25</td>\n",
       "      <td>7</td>\n",
       "      <td>12</td>\n",
       "      <td>8</td>\n",
       "      <td>6</td>\n",
       "      <td>16</td>\n",
       "    </tr>\n",
       "    <tr>\n",
       "      <th>2</th>\n",
       "      <td>2003</td>\n",
       "      <td>11</td>\n",
       "      <td>1266</td>\n",
       "      <td>73</td>\n",
       "      <td>1437</td>\n",
       "      <td>61</td>\n",
       "      <td>N</td>\n",
       "      <td>0</td>\n",
       "      <td>24</td>\n",
       "      <td>58</td>\n",
       "      <td>...</td>\n",
       "      <td>26</td>\n",
       "      <td>14</td>\n",
       "      <td>23</td>\n",
       "      <td>31</td>\n",
       "      <td>22</td>\n",
       "      <td>9</td>\n",
       "      <td>12</td>\n",
       "      <td>2</td>\n",
       "      <td>5</td>\n",
       "      <td>23</td>\n",
       "    </tr>\n",
       "    <tr>\n",
       "      <th>3</th>\n",
       "      <td>2003</td>\n",
       "      <td>11</td>\n",
       "      <td>1296</td>\n",
       "      <td>56</td>\n",
       "      <td>1457</td>\n",
       "      <td>50</td>\n",
       "      <td>N</td>\n",
       "      <td>0</td>\n",
       "      <td>18</td>\n",
       "      <td>38</td>\n",
       "      <td>...</td>\n",
       "      <td>22</td>\n",
       "      <td>8</td>\n",
       "      <td>15</td>\n",
       "      <td>17</td>\n",
       "      <td>20</td>\n",
       "      <td>9</td>\n",
       "      <td>19</td>\n",
       "      <td>4</td>\n",
       "      <td>3</td>\n",
       "      <td>23</td>\n",
       "    </tr>\n",
       "    <tr>\n",
       "      <th>4</th>\n",
       "      <td>2003</td>\n",
       "      <td>11</td>\n",
       "      <td>1400</td>\n",
       "      <td>77</td>\n",
       "      <td>1208</td>\n",
       "      <td>71</td>\n",
       "      <td>N</td>\n",
       "      <td>0</td>\n",
       "      <td>30</td>\n",
       "      <td>61</td>\n",
       "      <td>...</td>\n",
       "      <td>16</td>\n",
       "      <td>17</td>\n",
       "      <td>27</td>\n",
       "      <td>21</td>\n",
       "      <td>15</td>\n",
       "      <td>12</td>\n",
       "      <td>10</td>\n",
       "      <td>7</td>\n",
       "      <td>1</td>\n",
       "      <td>14</td>\n",
       "    </tr>\n",
       "  </tbody>\n",
       "</table>\n",
       "<p>5 rows × 34 columns</p>\n",
       "</div>"
      ],
      "text/plain": [
       "   Season  DayNum  WTeamID  WScore  LTeamID  LScore WLoc  NumOT  WFGM  WFGA  \\\n",
       "0    2003      10     1104      68     1328      62    N      0    27    58   \n",
       "1    2003      10     1272      70     1393      63    N      0    26    62   \n",
       "2    2003      11     1266      73     1437      61    N      0    24    58   \n",
       "3    2003      11     1296      56     1457      50    N      0    18    38   \n",
       "4    2003      11     1400      77     1208      71    N      0    30    61   \n",
       "\n",
       "   ...  LFGA3  LFTM  LFTA  LOR  LDR  LAst  LTO  LStl  LBlk  LPF  \n",
       "0  ...     10    16    22   10   22     8   18     9     2   20  \n",
       "1  ...     24     9    20   20   25     7   12     8     6   16  \n",
       "2  ...     26    14    23   31   22     9   12     2     5   23  \n",
       "3  ...     22     8    15   17   20     9   19     4     3   23  \n",
       "4  ...     16    17    27   21   15    12   10     7     1   14  \n",
       "\n",
       "[5 rows x 34 columns]"
      ]
     },
     "execution_count": 5,
     "metadata": {},
     "output_type": "execute_result"
    }
   ],
   "source": [
    "m_detailed_results.head()"
   ]
  },
  {
   "cell_type": "markdown",
   "metadata": {},
   "source": [
    "## Focusing on the Men's Results, trying to understand the specific team vs team breakdown of stats"
   ]
  },
  {
   "cell_type": "code",
   "execution_count": 9,
   "metadata": {},
   "outputs": [
    {
     "data": {
      "text/plain": [
       "371"
      ]
     },
     "execution_count": 9,
     "metadata": {},
     "output_type": "execute_result"
    }
   ],
   "source": [
    "m_detailed_results.WTeamID.value_counts()\n",
    "allTeams = set(m_detailed_results.WTeamID.to_list() + m_detailed_results.LTeamID.to_list())\n",
    "len(allTeams)"
   ]
  },
  {
   "cell_type": "code",
   "execution_count": 10,
   "metadata": {},
   "outputs": [],
   "source": [
    "# Creating a win/loss dictionary to understand the balance of the target variable per team\n",
    "teamDict = {}\n",
    "for i in allTeams:\n",
    "    teamDict[i] = {'wins' : 0, 'losses' : 0}\n",
    "\n",
    "for j in m_detailed_results.WTeamID.to_list():\n",
    "    teamDict[j]['wins'] += 1\n",
    "for k in m_detailed_results.LTeamID.to_list():\n",
    "    teamDict[k]['losses'] += 1\n"
   ]
  },
  {
   "cell_type": "code",
   "execution_count": 11,
   "metadata": {},
   "outputs": [
    {
     "data": {
      "text/plain": [
       "dict_items([(1101, {'wins': 148, 'losses': 167}), (1102, {'wins': 285, 'losses': 379}), (1103, {'wins': 463, 'losses': 242}), (1104, {'wins': 439, 'losses': 277}), (1105, {'wins': 198, 'losses': 425}), (1106, {'wins': 268, 'losses': 393}), (1107, {'wins': 344, 'losses': 347}), (1108, {'wins': 209, 'losses': 449}), (1110, {'wins': 341, 'losses': 339}), (1111, {'wins': 311, 'losses': 349}), (1112, {'wins': 539, 'losses': 193}), (1113, {'wins': 375, 'losses': 331}), (1114, {'wins': 323, 'losses': 342}), (1115, {'wins': 198, 'losses': 476}), (1116, {'wins': 433, 'losses': 290}), (1117, {'wins': 303, 'losses': 357}), (1119, {'wins': 254, 'losses': 395}), (1120, {'wins': 400, 'losses': 308}), (1122, {'wins': 329, 'losses': 350}), (1123, {'wins': 298, 'losses': 370}), (1124, {'wins': 429, 'losses': 254}), (1125, {'wins': 497, 'losses': 205}), (1126, {'wins': 252, 'losses': 400}), (1127, {'wins': 230, 'losses': 426}), (1128, {'wins': 67, 'losses': 39}), (1129, {'wins': 414, 'losses': 274}), (1130, {'wins': 351, 'losses': 362}), (1131, {'wins': 377, 'losses': 314}), (1132, {'wins': 309, 'losses': 365}), (1133, {'wins': 351, 'losses': 360}), (1135, {'wins': 261, 'losses': 342}), (1136, {'wins': 199, 'losses': 298}), (1137, {'wins': 391, 'losses': 306}), (1138, {'wins': 371, 'losses': 314}), (1139, {'wins': 444, 'losses': 258}), (1140, {'wins': 495, 'losses': 216}), (1141, {'wins': 267, 'losses': 393}), (1142, {'wins': 213, 'losses': 435}), (1143, {'wins': 364, 'losses': 351}), (1144, {'wins': 255, 'losses': 396}), (1145, {'wins': 280, 'losses': 404}), (1146, {'wins': 139, 'losses': 390}), (1147, {'wins': 63, 'losses': 186}), (1148, {'wins': 274, 'losses': 398}), (1149, {'wins': 212, 'losses': 406}), (1150, {'wins': 337, 'losses': 349}), (1151, {'wins': 363, 'losses': 313}), (1152, {'wins': 136, 'losses': 503}), (1153, {'wins': 476, 'losses': 244}), (1154, {'wins': 162, 'losses': 464}), (1155, {'wins': 422, 'losses': 281}), (1156, {'wins': 313, 'losses': 365}), (1157, {'wins': 300, 'losses': 325}), (1158, {'wins': 450, 'losses': 252}), (1159, {'wins': 325, 'losses': 352}), (1160, {'wins': 401, 'losses': 311}), (1161, {'wins': 369, 'losses': 315}), (1162, {'wins': 228, 'losses': 359}), (1163, {'wins': 494, 'losses': 229}), (1164, {'wins': 217, 'losses': 465}), (1165, {'wins': 273, 'losses': 316}), (1166, {'wins': 496, 'losses': 228}), (1167, {'wins': 199, 'losses': 307}), (1168, {'wins': 303, 'losses': 352}), (1169, {'wins': 261, 'losses': 401}), (1170, {'wins': 211, 'losses': 417}), (1171, {'wins': 167, 'losses': 415}), (1172, {'wins': 437, 'losses': 238}), (1173, {'wins': 484, 'losses': 229}), (1174, {'wins': 313, 'losses': 380}), (1175, {'wins': 228, 'losses': 425}), (1176, {'wins': 296, 'losses': 376}), (1177, {'wins': 270, 'losses': 423}), (1178, {'wins': 275, 'losses': 411}), (1179, {'wins': 365, 'losses': 328}), (1180, {'wins': 345, 'losses': 339}), (1181, {'wins': 595, 'losses': 144}), (1182, {'wins': 307, 'losses': 375}), (1183, {'wins': 223, 'losses': 421}), (1184, {'wins': 337, 'losses': 321}), (1185, {'wins': 262, 'losses': 392}), (1186, {'wins': 328, 'losses': 338}), (1187, {'wins': 252, 'losses': 397}), (1188, {'wins': 141, 'losses': 321}), (1189, {'wins': 255, 'losses': 403}), (1190, {'wins': 403, 'losses': 286}), (1191, {'wins': 275, 'losses': 407}), (1192, {'wins': 256, 'losses': 412}), (1193, {'wins': 343, 'losses': 368}), (1194, {'wins': 288, 'losses': 372}), (1195, {'wins': 260, 'losses': 267}), (1196, {'wins': 508, 'losses': 224}), (1197, {'wins': 223, 'losses': 432}), (1198, {'wins': 231, 'losses': 425}), (1199, {'wins': 437, 'losses': 276}), (1200, {'wins': 237, 'losses': 432}), (1201, {'wins': 331, 'losses': 354}), (1202, {'wins': 327, 'losses': 328}), (1203, {'wins': 361, 'losses': 324}), (1204, {'wins': 305, 'losses': 355}), (1205, {'wins': 288, 'losses': 375}), (1206, {'wins': 409, 'losses': 297}), (1207, {'wins': 392, 'losses': 309}), (1208, {'wins': 357, 'losses': 350}), (1209, {'wins': 338, 'losses': 332}), (1210, {'wins': 349, 'losses': 356}), (1211, {'wins': 607, 'losses': 109}), (1212, {'wins': 217, 'losses': 417}), (1213, {'wins': 225, 'losses': 118}), (1214, {'wins': 323, 'losses': 363}), (1216, {'wins': 257, 'losses': 374}), (1217, {'wins': 327, 'losses': 267}), (1218, {'wins': 365, 'losses': 299}), (1219, {'wins': 306, 'losses': 337}), (1220, {'wins': 394, 'losses': 307}), (1221, {'wins': 315, 'losses': 369}), (1222, {'wins': 463, 'losses': 246}), (1223, {'wins': 127, 'losses': 352}), (1224, {'wins': 202, 'losses': 457}), (1225, {'wins': 242, 'losses': 420}), (1226, {'wins': 202, 'losses': 433}), (1227, {'wins': 286, 'losses': 393}), (1228, {'wins': 467, 'losses': 266}), (1229, {'wins': 350, 'losses': 350}), (1230, {'wins': 90, 'losses': 206}), (1231, {'wins': 412, 'losses': 304}), (1232, {'wins': 325, 'losses': 360}), (1233, {'wins': 412, 'losses': 297}), (1234, {'wins': 415, 'losses': 307}), (1235, {'wins': 413, 'losses': 299}), (1236, {'wins': 301, 'losses': 355}), (1237, {'wins': 258, 'losses': 403}), (1238, {'wins': 298, 'losses': 393}), (1239, {'wins': 281, 'losses': 367}), (1240, {'wins': 279, 'losses': 370}), (1241, {'wins': 310, 'losses': 376}), (1242, {'wins': 593, 'losses': 141}), (1243, {'wins': 419, 'losses': 293}), (1244, {'wins': 165, 'losses': 404}), (1245, {'wins': 452, 'losses': 253}), (1246, {'wins': 555, 'losses': 179}), (1247, {'wins': 314, 'losses': 382}), (1248, {'wins': 263, 'losses': 402}), (1249, {'wins': 258, 'losses': 379}), (1250, {'wins': 342, 'losses': 321}), (1251, {'wins': 342, 'losses': 322}), (1252, {'wins': 330, 'losses': 329}), (1253, {'wins': 311, 'losses': 368}), (1254, {'wins': 312, 'losses': 361}), (1255, {'wins': 198, 'losses': 403}), (1256, {'wins': 393, 'losses': 295}), (1257, {'wins': 485, 'losses': 234}), (1258, {'wins': 270, 'losses': 406}), (1259, {'wins': 270, 'losses': 406}), (1260, {'wins': 360, 'losses': 326}), (1261, {'wins': 414, 'losses': 298}), (1262, {'wins': 154, 'losses': 184}), (1263, {'wins': 212, 'losses': 427}), (1264, {'wins': 325, 'losses': 355}), (1265, {'wins': 266, 'losses': 426}), (1266, {'wins': 471, 'losses': 244}), (1267, {'wins': 339, 'losses': 353}), (1268, {'wins': 456, 'losses': 260}), (1269, {'wins': 348, 'losses': 340}), (1270, {'wins': 245, 'losses': 372}), (1271, {'wins': 147, 'losses': 487}), (1272, {'wins': 538, 'losses': 196}), (1273, {'wins': 336, 'losses': 345}), (1274, {'wins': 404, 'losses': 306}), (1275, {'wins': 307, 'losses': 368}), (1276, {'wins': 438, 'losses': 279}), (1277, {'wins': 518, 'losses': 214}), (1278, {'wins': 378, 'losses': 338}), (1279, {'wins': 405, 'losses': 314}), (1280, {'wins': 430, 'losses': 294}), (1281, {'wins': 399, 'losses': 316}), (1282, {'wins': 248, 'losses': 406}), (1283, {'wins': 372, 'losses': 331}), (1284, {'wins': 333, 'losses': 380}), (1285, {'wins': 394, 'losses': 265}), (1286, {'wins': 295, 'losses': 355}), (1287, {'wins': 333, 'losses': 329}), (1288, {'wins': 283, 'losses': 380}), (1289, {'wins': 4, 'losses': 20}), (1290, {'wins': 194, 'losses': 494}), (1291, {'wins': 303, 'losses': 388}), (1292, {'wins': 389, 'losses': 294}), (1293, {'wins': 437, 'losses': 224}), (1294, {'wins': 270, 'losses': 319}), (1295, {'wins': 332, 'losses': 238}), (1296, {'wins': 233, 'losses': 425}), (1297, {'wins': 203, 'losses': 176}), (1298, {'wins': 275, 'losses': 384}), (1299, {'wins': 217, 'losses': 455}), (1300, {'wins': 229, 'losses': 257}), (1301, {'wins': 421, 'losses': 305}), (1303, {'wins': 152, 'losses': 239}), (1304, {'wins': 350, 'losses': 356}), (1305, {'wins': 452, 'losses': 252}), (1306, {'wins': 244, 'losses': 397}), (1307, {'wins': 433, 'losses': 271}), (1308, {'wins': 417, 'losses': 254}), (1309, {'wins': 216, 'losses': 361}), (1310, {'wins': 333, 'losses': 368}), (1311, {'wins': 241, 'losses': 382}), (1312, {'wins': 168, 'losses': 355}), (1313, {'wins': 354, 'losses': 319}), (1314, {'wins': 536, 'losses': 204}), (1315, {'wins': 183, 'losses': 288}), (1316, {'wins': 228, 'losses': 354}), (1317, {'wins': 348, 'losses': 306}), (1318, {'wins': 364, 'losses': 337}), (1319, {'wins': 256, 'losses': 400}), (1320, {'wins': 413, 'losses': 279}), (1321, {'wins': 342, 'losses': 358}), (1322, {'wins': 264, 'losses': 373}), (1323, {'wins': 443, 'losses': 277}), (1324, {'wins': 369, 'losses': 332}), (1325, {'wins': 403, 'losses': 301}), (1326, {'wins': 499, 'losses': 238}), (1328, {'wins': 434, 'losses': 272}), (1329, {'wins': 419, 'losses': 296}), (1330, {'wins': 421, 'losses': 289}), (1331, {'wins': 364, 'losses': 307}), (1332, {'wins': 466, 'losses': 258}), (1333, {'wins': 302, 'losses': 393}), (1334, {'wins': 319, 'losses': 347}), (1335, {'wins': 308, 'losses': 311}), (1336, {'wins': 333, 'losses': 380}), (1337, {'wins': 250, 'losses': 430}), (1338, {'wins': 468, 'losses': 256}), (1339, {'wins': 253, 'losses': 418}), (1340, {'wins': 297, 'losses': 341}), (1341, {'wins': 241, 'losses': 426}), (1342, {'wins': 138, 'losses': 372}), (1343, {'wins': 356, 'losses': 235}), (1344, {'wins': 410, 'losses': 301}), (1345, {'wins': 485, 'losses': 239}), (1346, {'wins': 340, 'losses': 337}), (1347, {'wins': 296, 'losses': 361}), (1348, {'wins': 373, 'losses': 324}), (1349, {'wins': 266, 'losses': 404}), (1350, {'wins': 393, 'losses': 319}), (1351, {'wins': 364, 'losses': 338}), (1352, {'wins': 367, 'losses': 335}), (1353, {'wins': 309, 'losses': 390}), (1354, {'wins': 240, 'losses': 418}), (1355, {'wins': 347, 'losses': 243}), (1356, {'wins': 388, 'losses': 314}), (1357, {'wins': 278, 'losses': 396}), (1358, {'wins': 370, 'losses': 269}), (1359, {'wins': 296, 'losses': 362}), (1360, {'wins': 276, 'losses': 393}), (1361, {'wins': 487, 'losses': 207}), (1362, {'wins': 361, 'losses': 324}), (1363, {'wins': 178, 'losses': 483}), (1364, {'wins': 380, 'losses': 276}), (1365, {'wins': 333, 'losses': 345}), (1366, {'wins': 154, 'losses': 317}), (1367, {'wins': 171, 'losses': 343}), (1368, {'wins': 286, 'losses': 350}), (1369, {'wins': 226, 'losses': 429}), (1370, {'wins': 223, 'losses': 247}), (1371, {'wins': 396, 'losses': 307}), (1372, {'wins': 412, 'losses': 211}), (1373, {'wins': 353, 'losses': 349}), (1374, {'wins': 371, 'losses': 307}), (1375, {'wins': 332, 'losses': 325}), (1376, {'wins': 362, 'losses': 339}), (1377, {'wins': 221, 'losses': 242}), (1378, {'wins': 277, 'losses': 416}), (1379, {'wins': 300, 'losses': 353}), (1380, {'wins': 281, 'losses': 376}), (1381, {'wins': 233, 'losses': 408}), (1382, {'wins': 350, 'losses': 331}), (1383, {'wins': 255, 'losses': 357}), (1384, {'wins': 236, 'losses': 419}), (1385, {'wins': 360, 'losses': 346}), (1386, {'wins': 381, 'losses': 329}), (1387, {'wins': 391, 'losses': 310}), (1388, {'wins': 510, 'losses': 185}), (1389, {'wins': 307, 'losses': 383}), (1390, {'wins': 409, 'losses': 301}), (1391, {'wins': 220, 'losses': 431}), (1392, {'wins': 344, 'losses': 340}), (1393, {'wins': 491, 'losses': 237}), (1394, {'wins': 307, 'losses': 327}), (1395, {'wins': 333, 'losses': 373}), (1396, {'wins': 408, 'losses': 295}), (1397, {'wins': 467, 'losses': 250}), (1398, {'wins': 251, 'losses': 399}), (1399, {'wins': 282, 'losses': 378}), (1400, {'wins': 481, 'losses': 247}), (1401, {'wins': 430, 'losses': 271}), (1402, {'wins': 284, 'losses': 354}), (1403, {'wins': 406, 'losses': 314}), (1404, {'wins': 233, 'losses': 410}), (1405, {'wins': 387, 'losses': 318}), (1406, {'wins': 299, 'losses': 394}), (1407, {'wins': 304, 'losses': 357}), (1408, {'wins': 285, 'losses': 388}), (1409, {'wins': 370, 'losses': 325}), (1410, {'wins': 188, 'losses': 433}), (1411, {'wins': 336, 'losses': 361}), (1412, {'wins': 450, 'losses': 256}), (1413, {'wins': 248, 'losses': 345}), (1414, {'wins': 396, 'losses': 296}), (1415, {'wins': 237, 'losses': 409}), (1416, {'wins': 389, 'losses': 291}), (1417, {'wins': 476, 'losses': 246}), (1418, {'wins': 355, 'losses': 315}), (1419, {'wins': 212, 'losses': 431}), (1420, {'wins': 256, 'losses': 416}), (1421, {'wins': 321, 'losses': 324}), (1422, {'wins': 326, 'losses': 352}), (1423, {'wins': 343, 'losses': 338}), (1424, {'wins': 433, 'losses': 276}), (1425, {'wins': 401, 'losses': 320}), (1426, {'wins': 327, 'losses': 325}), (1427, {'wins': 251, 'losses': 390}), (1428, {'wins': 390, 'losses': 305}), (1429, {'wins': 492, 'losses': 217}), (1430, {'wins': 301, 'losses': 272}), (1431, {'wins': 377, 'losses': 309}), (1433, {'wins': 524, 'losses': 206}), (1434, {'wins': 363, 'losses': 329}), (1435, {'wins': 392, 'losses': 325}), (1436, {'wins': 494, 'losses': 208}), (1437, {'wins': 512, 'losses': 210}), (1438, {'wins': 464, 'losses': 237}), (1439, {'wins': 393, 'losses': 318}), (1440, {'wins': 200, 'losses': 422}), (1441, {'wins': 266, 'losses': 398}), (1442, {'wins': 197, 'losses': 414}), (1443, {'wins': 431, 'losses': 272}), (1444, {'wins': 322, 'losses': 364}), (1445, {'wins': 26, 'losses': 81}), (1447, {'wins': 339, 'losses': 316}), (1448, {'wins': 376, 'losses': 325}), (1449, {'wins': 413, 'losses': 302}), (1450, {'wins': 340, 'losses': 359}), (1451, {'wins': 372, 'losses': 277}), (1452, {'wins': 443, 'losses': 280}), (1453, {'wins': 324, 'losses': 355}), (1454, {'wins': 347, 'losses': 338}), (1455, {'wins': 476, 'losses': 225}), (1456, {'wins': 286, 'losses': 384}), (1457, {'wins': 395, 'losses': 262}), (1458, {'wins': 519, 'losses': 209}), (1459, {'wins': 342, 'losses': 319}), (1460, {'wins': 394, 'losses': 301}), (1461, {'wins': 323, 'losses': 359}), (1462, {'wins': 492, 'losses': 232}), (1463, {'wins': 342, 'losses': 262}), (1464, {'wins': 247, 'losses': 408}), (1465, {'wins': 95, 'losses': 94}), (1466, {'wins': 78, 'losses': 110}), (1467, {'wins': 90, 'losses': 76}), (1468, {'wins': 46, 'losses': 85}), (1469, {'wins': 40, 'losses': 89}), (1470, {'wins': 57, 'losses': 68}), (1471, {'wins': 62, 'losses': 61}), (1472, {'wins': 58, 'losses': 54}), (1473, {'wins': 24, 'losses': 57}), (1474, {'wins': 42, 'losses': 45}), (1475, {'wins': 25, 'losses': 57}), (1476, {'wins': 28, 'losses': 57}), (1477, {'wins': 25, 'losses': 64}), (1478, {'wins': 19, 'losses': 35}), (1479, {'wins': 10, 'losses': 16}), (1480, {'wins': 4, 'losses': 23})])"
      ]
     },
     "execution_count": 11,
     "metadata": {},
     "output_type": "execute_result"
    }
   ],
   "source": [
    "teamDict.items()"
   ]
  },
  {
   "cell_type": "markdown",
   "metadata": {},
   "source": [
    "## Create Dictonary of each teams results for all years"
   ]
  },
  {
   "cell_type": "code",
   "execution_count": 12,
   "metadata": {},
   "outputs": [],
   "source": [
    "teamDetailedDict = {}\n",
    "for i in allTeams:\n",
    "    condition1 = m_detailed_results.WTeamID == i\n",
    "    condition2 = m_detailed_results.LTeamID == i\n",
    "\n",
    "    teamDetailedDict[i] = m_detailed_results[condition1 | condition2]"
   ]
  },
  {
   "cell_type": "code",
   "execution_count": 13,
   "metadata": {},
   "outputs": [
    {
     "data": {
      "text/plain": [
       "dict_keys([1101, 1102, 1103, 1104, 1105, 1106, 1107, 1108, 1110, 1111, 1112, 1113, 1114, 1115, 1116, 1117, 1119, 1120, 1122, 1123, 1124, 1125, 1126, 1127, 1128, 1129, 1130, 1131, 1132, 1133, 1135, 1136, 1137, 1138, 1139, 1140, 1141, 1142, 1143, 1144, 1145, 1146, 1147, 1148, 1149, 1150, 1151, 1152, 1153, 1154, 1155, 1156, 1157, 1158, 1159, 1160, 1161, 1162, 1163, 1164, 1165, 1166, 1167, 1168, 1169, 1170, 1171, 1172, 1173, 1174, 1175, 1176, 1177, 1178, 1179, 1180, 1181, 1182, 1183, 1184, 1185, 1186, 1187, 1188, 1189, 1190, 1191, 1192, 1193, 1194, 1195, 1196, 1197, 1198, 1199, 1200, 1201, 1202, 1203, 1204, 1205, 1206, 1207, 1208, 1209, 1210, 1211, 1212, 1213, 1214, 1216, 1217, 1218, 1219, 1220, 1221, 1222, 1223, 1224, 1225, 1226, 1227, 1228, 1229, 1230, 1231, 1232, 1233, 1234, 1235, 1236, 1237, 1238, 1239, 1240, 1241, 1242, 1243, 1244, 1245, 1246, 1247, 1248, 1249, 1250, 1251, 1252, 1253, 1254, 1255, 1256, 1257, 1258, 1259, 1260, 1261, 1262, 1263, 1264, 1265, 1266, 1267, 1268, 1269, 1270, 1271, 1272, 1273, 1274, 1275, 1276, 1277, 1278, 1279, 1280, 1281, 1282, 1283, 1284, 1285, 1286, 1287, 1288, 1289, 1290, 1291, 1292, 1293, 1294, 1295, 1296, 1297, 1298, 1299, 1300, 1301, 1303, 1304, 1305, 1306, 1307, 1308, 1309, 1310, 1311, 1312, 1313, 1314, 1315, 1316, 1317, 1318, 1319, 1320, 1321, 1322, 1323, 1324, 1325, 1326, 1328, 1329, 1330, 1331, 1332, 1333, 1334, 1335, 1336, 1337, 1338, 1339, 1340, 1341, 1342, 1343, 1344, 1345, 1346, 1347, 1348, 1349, 1350, 1351, 1352, 1353, 1354, 1355, 1356, 1357, 1358, 1359, 1360, 1361, 1362, 1363, 1364, 1365, 1366, 1367, 1368, 1369, 1370, 1371, 1372, 1373, 1374, 1375, 1376, 1377, 1378, 1379, 1380, 1381, 1382, 1383, 1384, 1385, 1386, 1387, 1388, 1389, 1390, 1391, 1392, 1393, 1394, 1395, 1396, 1397, 1398, 1399, 1400, 1401, 1402, 1403, 1404, 1405, 1406, 1407, 1408, 1409, 1410, 1411, 1412, 1413, 1414, 1415, 1416, 1417, 1418, 1419, 1420, 1421, 1422, 1423, 1424, 1425, 1426, 1427, 1428, 1429, 1430, 1431, 1433, 1434, 1435, 1436, 1437, 1438, 1439, 1440, 1441, 1442, 1443, 1444, 1445, 1447, 1448, 1449, 1450, 1451, 1452, 1453, 1454, 1455, 1456, 1457, 1458, 1459, 1460, 1461, 1462, 1463, 1464, 1465, 1466, 1467, 1468, 1469, 1470, 1471, 1472, 1473, 1474, 1475, 1476, 1477, 1478, 1479, 1480])"
      ]
     },
     "execution_count": 13,
     "metadata": {},
     "output_type": "execute_result"
    }
   ],
   "source": [
    "teamDetailedDict.keys()"
   ]
  },
  {
   "cell_type": "markdown",
   "metadata": {},
   "source": [
    "### Identify team with the most games"
   ]
  },
  {
   "cell_type": "code",
   "execution_count": 51,
   "metadata": {},
   "outputs": [
    {
     "name": "stdout",
     "output_type": "stream",
     "text": [
      "Longest: 1314, Length: 740\n"
     ]
    }
   ],
   "source": [
    "longest = 0\n",
    "longIdx = ''\n",
    "for i in teamDetailedDict:\n",
    "    if len(teamDetailedDict[i]) > longest:\n",
    "        longest = len(teamDetailedDict[i])\n",
    "        longIdx = i\n",
    "print(f\"Longest: {longIdx}, Length: {longest}\")\n"
   ]
  },
  {
   "cell_type": "code",
   "execution_count": null,
   "metadata": {},
   "outputs": [],
   "source": [
    "#Create Win and Loss Categories in every DataFrame\n",
    "for key in teamDetailedDict.keys():\n",
    "    win = []\n",
    "    for i in teamDetailedDict[key].WTeamID:\n",
    "        if i == key:\n",
    "            win.append(1)\n",
    "        else:\n",
    "            win.append(0)\n",
    "    teamDetailedDict[key]['win'] = win"
   ]
  },
  {
   "cell_type": "code",
   "execution_count": 58,
   "metadata": {},
   "outputs": [],
   "source": [
    "#Create Home, away, neutral Categories in every DataFrame\n",
    "for key in teamDetailedDict.keys():\n",
    "    wloc_num = []\n",
    "    for i in teamDetailedDict[key].WLoc:\n",
    "        if i =='H':\n",
    "            wloc_num.append(1)\n",
    "        elif i == 'A':\n",
    "            wloc_num.append(0)\n",
    "        else:\n",
    "            wloc_num.append(2)\n",
    "    teamDetailedDict[key]['wloc_num'] = wloc_num\n",
    "\n"
   ]
  },
  {
   "cell_type": "code",
   "execution_count": 67,
   "metadata": {},
   "outputs": [],
   "source": [
    "#Create Home, away, neutral Categories in every DataFrame for the LOSER\n",
    "for key in teamDetailedDict.keys():\n",
    "    lloc_num = []\n",
    "    for i in teamDetailedDict[key].WLoc:\n",
    "        if i =='H':\n",
    "            lloc_num.append(0)\n",
    "        elif i == 'A':\n",
    "            lloc_num.append(1)\n",
    "        else:\n",
    "            lloc_num.append(2)\n",
    "    teamDetailedDict[key]['lloc_num'] = lloc_num"
   ]
  },
  {
   "cell_type": "code",
   "execution_count": 69,
   "metadata": {},
   "outputs": [
    {
     "data": {
      "text/html": [
       "<div>\n",
       "<style scoped>\n",
       "    .dataframe tbody tr th:only-of-type {\n",
       "        vertical-align: middle;\n",
       "    }\n",
       "\n",
       "    .dataframe tbody tr th {\n",
       "        vertical-align: top;\n",
       "    }\n",
       "\n",
       "    .dataframe thead th {\n",
       "        text-align: right;\n",
       "    }\n",
       "</style>\n",
       "<table border=\"1\" class=\"dataframe\">\n",
       "  <thead>\n",
       "    <tr style=\"text-align: right;\">\n",
       "      <th></th>\n",
       "      <th>wloc_num</th>\n",
       "      <th>lloc_num</th>\n",
       "    </tr>\n",
       "  </thead>\n",
       "  <tbody>\n",
       "    <tr>\n",
       "      <th>19</th>\n",
       "      <td>1</td>\n",
       "      <td>0</td>\n",
       "    </tr>\n",
       "    <tr>\n",
       "      <th>30</th>\n",
       "      <td>1</td>\n",
       "      <td>0</td>\n",
       "    </tr>\n",
       "    <tr>\n",
       "      <th>187</th>\n",
       "      <td>0</td>\n",
       "      <td>1</td>\n",
       "    </tr>\n",
       "    <tr>\n",
       "      <th>318</th>\n",
       "      <td>2</td>\n",
       "      <td>2</td>\n",
       "    </tr>\n",
       "    <tr>\n",
       "      <th>352</th>\n",
       "      <td>2</td>\n",
       "      <td>2</td>\n",
       "    </tr>\n",
       "    <tr>\n",
       "      <th>...</th>\n",
       "      <td>...</td>\n",
       "      <td>...</td>\n",
       "    </tr>\n",
       "    <tr>\n",
       "      <th>116710</th>\n",
       "      <td>1</td>\n",
       "      <td>0</td>\n",
       "    </tr>\n",
       "    <tr>\n",
       "      <th>116879</th>\n",
       "      <td>1</td>\n",
       "      <td>0</td>\n",
       "    </tr>\n",
       "    <tr>\n",
       "      <th>117283</th>\n",
       "      <td>1</td>\n",
       "      <td>0</td>\n",
       "    </tr>\n",
       "    <tr>\n",
       "      <th>117355</th>\n",
       "      <td>1</td>\n",
       "      <td>0</td>\n",
       "    </tr>\n",
       "    <tr>\n",
       "      <th>117602</th>\n",
       "      <td>0</td>\n",
       "      <td>1</td>\n",
       "    </tr>\n",
       "  </tbody>\n",
       "</table>\n",
       "<p>740 rows × 2 columns</p>\n",
       "</div>"
      ],
      "text/plain": [
       "        wloc_num  lloc_num\n",
       "19             1         0\n",
       "30             1         0\n",
       "187            0         1\n",
       "318            2         2\n",
       "352            2         2\n",
       "...          ...       ...\n",
       "116710         1         0\n",
       "116879         1         0\n",
       "117283         1         0\n",
       "117355         1         0\n",
       "117602         0         1\n",
       "\n",
       "[740 rows x 2 columns]"
      ]
     },
     "execution_count": 69,
     "metadata": {},
     "output_type": "execute_result"
    }
   ],
   "source": [
    "teamDetailedDict[1314][['wloc_num','lloc_num']]"
   ]
  },
  {
   "cell_type": "markdown",
   "metadata": {},
   "source": [
    "## Transpose from Winning Team and Losing team to Team A being the same as Key, and Team B is opposing. Perspective is Team A for win and location"
   ]
  },
  {
   "cell_type": "code",
   "execution_count": 70,
   "metadata": {},
   "outputs": [
    {
     "data": {
      "text/plain": [
       "Index(['Season', 'DayNum', 'WTeamID', 'WScore', 'LTeamID', 'LScore', 'WLoc',\n",
       "       'NumOT', 'WFGM', 'WFGA', 'WFGM3', 'WFGA3', 'WFTM', 'WFTA', 'WOR', 'WDR',\n",
       "       'WAst', 'WTO', 'WStl', 'WBlk', 'WPF', 'LFGM', 'LFGA', 'LFGM3', 'LFGA3',\n",
       "       'LFTM', 'LFTA', 'LOR', 'LDR', 'LAst', 'LTO', 'LStl', 'LBlk', 'LPF',\n",
       "       'win', 'wloc_num', 'lloc_num'],\n",
       "      dtype='object')"
      ]
     },
     "execution_count": 70,
     "metadata": {},
     "output_type": "execute_result"
    }
   ],
   "source": [
    "teamDetailedDict[1314].columns"
   ]
  },
  {
   "cell_type": "code",
   "execution_count": 81,
   "metadata": {},
   "outputs": [],
   "source": [
    "for df in teamDetailedDict.keys():\n",
    "    teamDetailedDict[df].reset_index(drop=True, inplace=True)"
   ]
  },
  {
   "cell_type": "code",
   "execution_count": 15,
   "metadata": {},
   "outputs": [],
   "source": [
    "from tqdm import tqdm"
   ]
  },
  {
   "cell_type": "markdown",
   "metadata": {},
   "source": [
    "## Create a New DataFrame for all teams, all games, opposing all others, and the target of win = 1 or loss = 0"
   ]
  },
  {
   "cell_type": "code",
   "execution_count": 85,
   "metadata": {},
   "outputs": [],
   "source": [
    "trans_cols = ['season','day_num','team_id','o_team_id','loc_num','num_ot','fgm','fga','fgm3','fga3','ftm','fta','oreb','dreb','assist','to','steal','blocks','fouls',\n",
    "              'o_fgm','o_fga','o_fgm3','o_fga3','o_ftm','o_fta','o_oreb','o_dreb','o_assist','o_to','o_steal','o_blocks','o_fouls','win']\n",
    "transformTeamsDF = pd.DataFrame(columns=trans_cols)\n",
    "\n",
    "\n"
   ]
  },
  {
   "cell_type": "code",
   "execution_count": 88,
   "metadata": {},
   "outputs": [
    {
     "name": "stderr",
     "output_type": "stream",
     "text": [
      "100%|██████████| 371/371 [1:17:38<00:00, 12.56s/it]"
     ]
    },
    {
     "name": "stdout",
     "output_type": "stream",
     "text": [
      "235496\n",
      "  season day_num team_id o_team_id loc_num num_ot fgm fga fgm3 fga3  ...  \\\n",
      "0   2014       5    1101      1182       0      0  22  63    7   25  ...   \n",
      "1   2014       7    1101      1382       0      0  14  40    4   16  ...   \n",
      "2   2014       9    1101      1268       0      0  17  54   10   21  ...   \n",
      "3   2014      13    1101      1234       0      0  14  54    3   23  ...   \n",
      "4   2014      15    1101      1395       0      0  19  50    9   20  ...   \n",
      "\n",
      "  o_ftm o_fta o_oreb o_dreb o_assist o_to o_steal o_blocks o_fouls win  \n",
      "0    27    37     10     32       19   10       4        2      22   0  \n",
      "1    23    32     18     22       15    9       7        7      23   0  \n",
      "2    11    17     14     27       12   17       9       10       8   0  \n",
      "3    18    22      5     31       25    5      11        5      10   0  \n",
      "4    24    37      8     25       11    6       7        3      20   0  \n",
      "\n",
      "[5 rows x 33 columns]\n"
     ]
    },
    {
     "name": "stderr",
     "output_type": "stream",
     "text": [
      "\n"
     ]
    }
   ],
   "source": [
    "for team in tqdm(teamDetailedDict.keys()):\n",
    "    for row in range(0, len(teamDetailedDict[team])):\n",
    "        if teamDetailedDict[team].loc[row]['WTeamID'] == team:\n",
    "            newRow = pd.DataFrame([{'season': teamDetailedDict[team].loc[row]['Season'],\n",
    "                      'day_num' : teamDetailedDict[team].loc[row]['DayNum'],\n",
    "                      'team_id' : teamDetailedDict[team].loc[row]['WTeamID'],\n",
    "                      'o_team_id' : teamDetailedDict[team].loc[row]['LTeamID'],\n",
    "                      'loc_num' : teamDetailedDict[team].loc[row]['wloc_num'],\n",
    "                      'num_ot' : teamDetailedDict[team].loc[row]['NumOT'],\n",
    "                      'fgm' : teamDetailedDict[team].loc[row]['WFGM'],\n",
    "                      'fga' : teamDetailedDict[team].loc[row]['WFGA'],\n",
    "                      'fgm3' : teamDetailedDict[team].loc[row]['WFGM3'],\n",
    "                      'fga3' : teamDetailedDict[team].loc[row]['WFGA3'],\n",
    "                      'ftm' : teamDetailedDict[team].loc[row]['WFTM'],\n",
    "                      'fta' : teamDetailedDict[team].loc[row]['WFTA'],\n",
    "                      'oreb' : teamDetailedDict[team].loc[row]['WOR'],\n",
    "                      'dreb' : teamDetailedDict[team].loc[row]['WDR'],\n",
    "                      'assist' : teamDetailedDict[team].loc[row]['WAst'],\n",
    "                      'to': teamDetailedDict[team].loc[row]['WTO'],\n",
    "                      'steal' : teamDetailedDict[team].loc[row]['WStl'],\n",
    "                      'blocks' : teamDetailedDict[team].loc[row]['WBlk'],\n",
    "                      'fouls' : teamDetailedDict[team].loc[row]['WPF'],\n",
    "                      'o_fgm' : teamDetailedDict[team].loc[row]['LFGM'],\n",
    "                      'o_fga' : teamDetailedDict[team].loc[row]['LFGA'],\n",
    "                      'o_fgm3' : teamDetailedDict[team].loc[row]['LFGM3'],\n",
    "                      'o_fga3' : teamDetailedDict[team].loc[row]['LFGA3'],\n",
    "                      'o_ftm' : teamDetailedDict[team].loc[row]['LFTM'],\n",
    "                      'o_fta' : teamDetailedDict[team].loc[row]['LFTA'],\n",
    "                      'o_oreb' : teamDetailedDict[team].loc[row]['LOR'],\n",
    "                      'o_dreb' : teamDetailedDict[team].loc[row]['LDR'],\n",
    "                      'o_assist' : teamDetailedDict[team].loc[row]['LAst'],\n",
    "                      'o_to': teamDetailedDict[team].loc[row]['LTO'],\n",
    "                      'o_steal' : teamDetailedDict[team].loc[row]['LStl'],\n",
    "                      'o_blocks' : teamDetailedDict[team].loc[row]['LBlk'],\n",
    "                      'o_fouls' : teamDetailedDict[team].loc[row]['LPF'],\n",
    "                      'win' : teamDetailedDict[team].loc[row]['win']\n",
    "            }])\n",
    "            transformTeamsDF = pd.concat([transformTeamsDF, newRow], ignore_index=True)\n",
    "        elif teamDetailedDict[team].loc[row]['LTeamID'] == team:\n",
    "            newRow = pd.DataFrame([{'season': teamDetailedDict[team].loc[row]['Season'],\n",
    "                      'day_num' : teamDetailedDict[team].loc[row]['DayNum'],\n",
    "                      'team_id' : teamDetailedDict[team].loc[row]['LTeamID'],\n",
    "                      'o_team_id' : teamDetailedDict[team].loc[row]['WTeamID'],\n",
    "                      'loc_num' : teamDetailedDict[team].loc[row]['lloc_num'],\n",
    "                      'num_ot' : teamDetailedDict[team].loc[row]['NumOT'],\n",
    "                      'fgm' : teamDetailedDict[team].loc[row]['LFGM'],\n",
    "                      'fga' : teamDetailedDict[team].loc[row]['LFGA'],\n",
    "                      'fgm3' : teamDetailedDict[team].loc[row]['LFGM3'],\n",
    "                      'fga3' : teamDetailedDict[team].loc[row]['LFGA3'],\n",
    "                      'ftm' : teamDetailedDict[team].loc[row]['LFTM'],\n",
    "                      'fta' : teamDetailedDict[team].loc[row]['LFTA'],\n",
    "                      'oreb' : teamDetailedDict[team].loc[row]['LOR'],\n",
    "                      'dreb' : teamDetailedDict[team].loc[row]['LDR'],\n",
    "                      'assist' : teamDetailedDict[team].loc[row]['LAst'],\n",
    "                      'to': teamDetailedDict[team].loc[row]['LTO'],\n",
    "                      'steal' : teamDetailedDict[team].loc[row]['LStl'],\n",
    "                      'blocks' : teamDetailedDict[team].loc[row]['LBlk'],\n",
    "                      'fouls' : teamDetailedDict[team].loc[row]['LPF'],\n",
    "                      'o_fgm' : teamDetailedDict[team].loc[row]['WFGM'],\n",
    "                      'o_fga' : teamDetailedDict[team].loc[row]['WFGA'],\n",
    "                      'o_fgm3' : teamDetailedDict[team].loc[row]['WFGM3'],\n",
    "                      'o_fga3' : teamDetailedDict[team].loc[row]['WFGA3'],\n",
    "                      'o_ftm' : teamDetailedDict[team].loc[row]['WFTM'],\n",
    "                      'o_fta' : teamDetailedDict[team].loc[row]['WFTA'],\n",
    "                      'o_oreb' : teamDetailedDict[team].loc[row]['WOR'],\n",
    "                      'o_dreb' : teamDetailedDict[team].loc[row]['WDR'],\n",
    "                      'o_assist' : teamDetailedDict[team].loc[row]['WAst'],\n",
    "                      'o_to': teamDetailedDict[team].loc[row]['WTO'],\n",
    "                      'o_steal' : teamDetailedDict[team].loc[row]['WStl'],\n",
    "                      'o_blocks' : teamDetailedDict[team].loc[row]['WBlk'],\n",
    "                      'o_fouls' : teamDetailedDict[team].loc[row]['WPF'],\n",
    "                      'win' : teamDetailedDict[team].loc[row]['win']\n",
    "            }])\n",
    "            transformTeamsDF = pd.concat([transformTeamsDF, newRow], ignore_index=True)\n",
    "print(len(transformTeamsDF))\n",
    "print(transformTeamsDF.head())"
   ]
  },
  {
   "cell_type": "code",
   "execution_count": 116,
   "metadata": {},
   "outputs": [],
   "source": [
    "transformTeamsDF = transformTeamsDF.astype(int)"
   ]
  },
  {
   "cell_type": "markdown",
   "metadata": {},
   "source": [
    "## Write the DF to CSV so that it does not need to be rebuilt for future use because that took over and hour"
   ]
  },
  {
   "cell_type": "code",
   "execution_count": 118,
   "metadata": {},
   "outputs": [],
   "source": [
    "transformTeamsDF.to_csv('transformedTeamsDF.csv', index=False)"
   ]
  },
  {
   "cell_type": "code",
   "execution_count": 119,
   "metadata": {},
   "outputs": [
    {
     "data": {
      "text/plain": [
       "False    235496\n",
       "Name: count, dtype: int64"
      ]
     },
     "execution_count": 119,
     "metadata": {},
     "output_type": "execute_result"
    }
   ],
   "source": [
    "duplicated_rows = transformTeamsDF.drop('win', axis=1).duplicated(keep=False)\n",
    "duplicated_rows.value_counts()\n",
    "                                                                   "
   ]
  },
  {
   "cell_type": "code",
   "execution_count": 120,
   "metadata": {},
   "outputs": [
    {
     "data": {
      "text/html": [
       "<div>\n",
       "<style scoped>\n",
       "    .dataframe tbody tr th:only-of-type {\n",
       "        vertical-align: middle;\n",
       "    }\n",
       "\n",
       "    .dataframe tbody tr th {\n",
       "        vertical-align: top;\n",
       "    }\n",
       "\n",
       "    .dataframe thead th {\n",
       "        text-align: right;\n",
       "    }\n",
       "</style>\n",
       "<table border=\"1\" class=\"dataframe\">\n",
       "  <thead>\n",
       "    <tr style=\"text-align: right;\">\n",
       "      <th></th>\n",
       "      <th>season</th>\n",
       "      <th>day_num</th>\n",
       "      <th>team_id</th>\n",
       "      <th>o_team_id</th>\n",
       "      <th>loc_num</th>\n",
       "      <th>num_ot</th>\n",
       "      <th>fgm</th>\n",
       "      <th>fga</th>\n",
       "      <th>fgm3</th>\n",
       "      <th>fga3</th>\n",
       "      <th>...</th>\n",
       "      <th>o_ftm</th>\n",
       "      <th>o_fta</th>\n",
       "      <th>o_oreb</th>\n",
       "      <th>o_dreb</th>\n",
       "      <th>o_assist</th>\n",
       "      <th>o_to</th>\n",
       "      <th>o_steal</th>\n",
       "      <th>o_blocks</th>\n",
       "      <th>o_fouls</th>\n",
       "      <th>win</th>\n",
       "    </tr>\n",
       "  </thead>\n",
       "  <tbody>\n",
       "    <tr>\n",
       "      <th>0</th>\n",
       "      <td>2014</td>\n",
       "      <td>5</td>\n",
       "      <td>1101</td>\n",
       "      <td>1182</td>\n",
       "      <td>0</td>\n",
       "      <td>0</td>\n",
       "      <td>22</td>\n",
       "      <td>63</td>\n",
       "      <td>7</td>\n",
       "      <td>25</td>\n",
       "      <td>...</td>\n",
       "      <td>27</td>\n",
       "      <td>37</td>\n",
       "      <td>10</td>\n",
       "      <td>32</td>\n",
       "      <td>19</td>\n",
       "      <td>10</td>\n",
       "      <td>4</td>\n",
       "      <td>2</td>\n",
       "      <td>22</td>\n",
       "      <td>0</td>\n",
       "    </tr>\n",
       "    <tr>\n",
       "      <th>1</th>\n",
       "      <td>2014</td>\n",
       "      <td>7</td>\n",
       "      <td>1101</td>\n",
       "      <td>1382</td>\n",
       "      <td>0</td>\n",
       "      <td>0</td>\n",
       "      <td>14</td>\n",
       "      <td>40</td>\n",
       "      <td>4</td>\n",
       "      <td>16</td>\n",
       "      <td>...</td>\n",
       "      <td>23</td>\n",
       "      <td>32</td>\n",
       "      <td>18</td>\n",
       "      <td>22</td>\n",
       "      <td>15</td>\n",
       "      <td>9</td>\n",
       "      <td>7</td>\n",
       "      <td>7</td>\n",
       "      <td>23</td>\n",
       "      <td>0</td>\n",
       "    </tr>\n",
       "    <tr>\n",
       "      <th>2</th>\n",
       "      <td>2014</td>\n",
       "      <td>9</td>\n",
       "      <td>1101</td>\n",
       "      <td>1268</td>\n",
       "      <td>0</td>\n",
       "      <td>0</td>\n",
       "      <td>17</td>\n",
       "      <td>54</td>\n",
       "      <td>10</td>\n",
       "      <td>21</td>\n",
       "      <td>...</td>\n",
       "      <td>11</td>\n",
       "      <td>17</td>\n",
       "      <td>14</td>\n",
       "      <td>27</td>\n",
       "      <td>12</td>\n",
       "      <td>17</td>\n",
       "      <td>9</td>\n",
       "      <td>10</td>\n",
       "      <td>8</td>\n",
       "      <td>0</td>\n",
       "    </tr>\n",
       "    <tr>\n",
       "      <th>3</th>\n",
       "      <td>2014</td>\n",
       "      <td>13</td>\n",
       "      <td>1101</td>\n",
       "      <td>1234</td>\n",
       "      <td>0</td>\n",
       "      <td>0</td>\n",
       "      <td>14</td>\n",
       "      <td>54</td>\n",
       "      <td>3</td>\n",
       "      <td>23</td>\n",
       "      <td>...</td>\n",
       "      <td>18</td>\n",
       "      <td>22</td>\n",
       "      <td>5</td>\n",
       "      <td>31</td>\n",
       "      <td>25</td>\n",
       "      <td>5</td>\n",
       "      <td>11</td>\n",
       "      <td>5</td>\n",
       "      <td>10</td>\n",
       "      <td>0</td>\n",
       "    </tr>\n",
       "    <tr>\n",
       "      <th>4</th>\n",
       "      <td>2014</td>\n",
       "      <td>15</td>\n",
       "      <td>1101</td>\n",
       "      <td>1395</td>\n",
       "      <td>0</td>\n",
       "      <td>0</td>\n",
       "      <td>19</td>\n",
       "      <td>50</td>\n",
       "      <td>9</td>\n",
       "      <td>20</td>\n",
       "      <td>...</td>\n",
       "      <td>24</td>\n",
       "      <td>37</td>\n",
       "      <td>8</td>\n",
       "      <td>25</td>\n",
       "      <td>11</td>\n",
       "      <td>6</td>\n",
       "      <td>7</td>\n",
       "      <td>3</td>\n",
       "      <td>20</td>\n",
       "      <td>0</td>\n",
       "    </tr>\n",
       "  </tbody>\n",
       "</table>\n",
       "<p>5 rows × 33 columns</p>\n",
       "</div>"
      ],
      "text/plain": [
       "   season  day_num  team_id  o_team_id  loc_num  num_ot  fgm  fga  fgm3  fga3  \\\n",
       "0    2014        5     1101       1182        0       0   22   63     7    25   \n",
       "1    2014        7     1101       1382        0       0   14   40     4    16   \n",
       "2    2014        9     1101       1268        0       0   17   54    10    21   \n",
       "3    2014       13     1101       1234        0       0   14   54     3    23   \n",
       "4    2014       15     1101       1395        0       0   19   50     9    20   \n",
       "\n",
       "   ...  o_ftm  o_fta  o_oreb  o_dreb  o_assist  o_to  o_steal  o_blocks  \\\n",
       "0  ...     27     37      10      32        19    10        4         2   \n",
       "1  ...     23     32      18      22        15     9        7         7   \n",
       "2  ...     11     17      14      27        12    17        9        10   \n",
       "3  ...     18     22       5      31        25     5       11         5   \n",
       "4  ...     24     37       8      25        11     6        7         3   \n",
       "\n",
       "   o_fouls  win  \n",
       "0       22    0  \n",
       "1       23    0  \n",
       "2        8    0  \n",
       "3       10    0  \n",
       "4       20    0  \n",
       "\n",
       "[5 rows x 33 columns]"
      ]
     },
     "execution_count": 120,
     "metadata": {},
     "output_type": "execute_result"
    }
   ],
   "source": [
    "transformTeamsDF.head()"
   ]
  },
  {
   "cell_type": "markdown",
   "metadata": {},
   "source": [
    "## OK New Data Set - Trying to classify the win!"
   ]
  },
  {
   "cell_type": "code",
   "execution_count": 101,
   "metadata": {},
   "outputs": [],
   "source": [
    "from sklearn.ensemble import RandomForestClassifier\n",
    "from sklearn.model_selection import train_test_split\n",
    "import seaborn as sns\n",
    "import matplotlib.pyplot as plt\n",
    "from sklearn.metrics import accuracy_score, precision_score, recall_score, f1_score, confusion_matrix\n",
    "from sklearn.metrics import ConfusionMatrixDisplay"
   ]
  },
  {
   "cell_type": "code",
   "execution_count": 136,
   "metadata": {},
   "outputs": [],
   "source": [
    "def ClassificationMetrics(y_test=y_test, y_pred=y_pred):\n",
    "    accuracy = accuracy_score(y_test, y_pred)\n",
    "    precision = precision_score(y_test, y_pred, average='weighted')\n",
    "    recall = recall_score(y_test, y_pred, average='weighted')\n",
    "    f1 = f1_score(y_test, y_pred, average='weighted')\n",
    "    conf_matrix = confusion_matrix(y_test, y_pred)\n",
    "\n",
    "    print(f\"Accuracy: {accuracy}\")\n",
    "    print(f\"Precision: {precision}\")\n",
    "    print(f\"Recall: {recall}\")\n",
    "    print(f\"F1 Score: {f1}\")\n",
    "    ConfusionMatrixDisplay(conf_matrix).plot()"
   ]
  },
  {
   "cell_type": "code",
   "execution_count": 180,
   "metadata": {},
   "outputs": [],
   "source": [
    "features = transformTeamsDF.columns.to_list()[4:-1]\n",
    "X = transformTeamsDF[features]\n",
    "y = transformTeamsDF['win']"
   ]
  },
  {
   "cell_type": "code",
   "execution_count": 181,
   "metadata": {},
   "outputs": [
    {
     "name": "stdout",
     "output_type": "stream",
     "text": [
      "<class 'pandas.core.frame.DataFrame'>\n",
      "RangeIndex: 235496 entries, 0 to 235495\n",
      "Data columns (total 28 columns):\n",
      " #   Column    Non-Null Count   Dtype\n",
      "---  ------    --------------   -----\n",
      " 0   loc_num   235496 non-null  int32\n",
      " 1   num_ot    235496 non-null  int32\n",
      " 2   fgm       235496 non-null  int32\n",
      " 3   fga       235496 non-null  int32\n",
      " 4   fgm3      235496 non-null  int32\n",
      " 5   fga3      235496 non-null  int32\n",
      " 6   ftm       235496 non-null  int32\n",
      " 7   fta       235496 non-null  int32\n",
      " 8   oreb      235496 non-null  int32\n",
      " 9   dreb      235496 non-null  int32\n",
      " 10  assist    235496 non-null  int32\n",
      " 11  to        235496 non-null  int32\n",
      " 12  steal     235496 non-null  int32\n",
      " 13  blocks    235496 non-null  int32\n",
      " 14  fouls     235496 non-null  int32\n",
      " 15  o_fgm     235496 non-null  int32\n",
      " 16  o_fga     235496 non-null  int32\n",
      " 17  o_fgm3    235496 non-null  int32\n",
      " 18  o_fga3    235496 non-null  int32\n",
      " 19  o_ftm     235496 non-null  int32\n",
      " 20  o_fta     235496 non-null  int32\n",
      " 21  o_oreb    235496 non-null  int32\n",
      " 22  o_dreb    235496 non-null  int32\n",
      " 23  o_assist  235496 non-null  int32\n",
      " 24  o_to      235496 non-null  int32\n",
      " 25  o_steal   235496 non-null  int32\n",
      " 26  o_blocks  235496 non-null  int32\n",
      " 27  o_fouls   235496 non-null  int32\n",
      "dtypes: int32(28)\n",
      "memory usage: 25.2 MB\n"
     ]
    }
   ],
   "source": [
    "X.info()"
   ]
  },
  {
   "cell_type": "code",
   "execution_count": 182,
   "metadata": {},
   "outputs": [
    {
     "data": {
      "text/plain": [
       "117748"
      ]
     },
     "execution_count": 182,
     "metadata": {},
     "output_type": "execute_result"
    }
   ],
   "source": [
    "y.sum()"
   ]
  },
  {
   "cell_type": "code",
   "execution_count": 183,
   "metadata": {},
   "outputs": [],
   "source": [
    "X_train, X_test, y_train, y_test = train_test_split(X, y, test_size=0.3, random_state=42)\n",
    "clf = RandomForestClassifier(n_estimators=100, random_state=42)\n"
   ]
  },
  {
   "cell_type": "code",
   "execution_count": 184,
   "metadata": {},
   "outputs": [
    {
     "data": {
      "text/plain": [
       "17805     0\n",
       "87267     1\n",
       "119080    1\n",
       "176497    1\n",
       "72999     1\n",
       "         ..\n",
       "119879    1\n",
       "103694    1\n",
       "131932    1\n",
       "146867    0\n",
       "121958    0\n",
       "Name: win, Length: 164847, dtype: int32"
      ]
     },
     "execution_count": 184,
     "metadata": {},
     "output_type": "execute_result"
    }
   ],
   "source": [
    "y_train"
   ]
  },
  {
   "cell_type": "code",
   "execution_count": 185,
   "metadata": {},
   "outputs": [],
   "source": [
    "clf.fit(X_train, y_train)\n",
    "# Make predictions\n",
    "y_pred = clf.predict(X_test)\n"
   ]
  },
  {
   "cell_type": "code",
   "execution_count": 186,
   "metadata": {},
   "outputs": [
    {
     "name": "stdout",
     "output_type": "stream",
     "text": [
      "Accuracy: 0.9420373961414882\n",
      "Precision: 0.9420390421834256\n",
      "Recall: 0.9420373961414882\n",
      "F1 Score: 0.9420371574954618\n"
     ]
    },
    {
     "data": {
      "image/png": "[encoded data removed]",
      "text/plain": [
       "<Figure size 640x480 with 2 Axes>"
      ]
     },
     "metadata": {},
     "output_type": "display_data"
    }
   ],
   "source": [
    "ClassificationMetrics(y_test, y_pred)"
   ]
  },
  {
   "cell_type": "code",
   "execution_count": 187,
   "metadata": {},
   "outputs": [
    {
     "data": {
      "text/plain": [
       "<Axes: >"
      ]
     },
     "execution_count": 187,
     "metadata": {},
     "output_type": "execute_result"
    },
    {
     "data": {
      "image/png": "[encoded data removed]",
      "text/plain": [
       "<Figure size 640x480 with 1 Axes>"
      ]
     },
     "metadata": {},
     "output_type": "display_data"
    }
   ],
   "source": [
    "Feature_importances = pd.Series(clf.feature_importances_, index=features)\n",
    "Feature_importances.plot.barh()"
   ]
  },
  {
   "cell_type": "code",
   "execution_count": 188,
   "metadata": {},
   "outputs": [],
   "source": [
    "valsToRemove = ['fgm','ofgm']\n",
    "feats = [item for item in features if item not in valsToRemove]\n"
   ]
  },
  {
   "cell_type": "code",
   "execution_count": 189,
   "metadata": {},
   "outputs": [],
   "source": [
    "# Re-run with less features - b/c FGM is an obvious one to predict with\n",
    "X = transformTeamsDF[feats]\n",
    "y = transformTeamsDF['win']\n",
    "\n",
    "X_train, X_test, y_train, y_test = train_test_split(X, y, test_size=0.3, random_state=42)\n",
    "clf = RandomForestClassifier(n_estimators=100, random_state=42)\n",
    "\n",
    "clf.fit(X_train, y_train)\n",
    "# Make predictions\n",
    "y_pred = clf.predict(X_test)\n",
    "\n",
    "\n",
    "\n"
   ]
  },
  {
   "cell_type": "code",
   "execution_count": 190,
   "metadata": {},
   "outputs": [
    {
     "name": "stdout",
     "output_type": "stream",
     "text": [
      "Accuracy: 0.90700505315008\n",
      "Precision: 0.907005025353853\n",
      "Recall: 0.90700505315008\n",
      "F1 Score: 0.9070049803748397\n"
     ]
    },
    {
     "data": {
      "image/png": "[encoded data removed]",
      "text/plain": [
       "<Figure size 640x480 with 2 Axes>"
      ]
     },
     "metadata": {},
     "output_type": "display_data"
    }
   ],
   "source": [
    "ClassificationMetrics(y_test, y_pred)"
   ]
  },
  {
   "cell_type": "code",
   "execution_count": 191,
   "metadata": {},
   "outputs": [
    {
     "data": {
      "text/plain": [
       "<Axes: >"
      ]
     },
     "execution_count": 191,
     "metadata": {},
     "output_type": "execute_result"
    },
    {
     "data": {
      "image/png": "[encoded data removed]",
      "text/plain": [
       "<Figure size 640x480 with 1 Axes>"
      ]
     },
     "metadata": {},
     "output_type": "display_data"
    }
   ],
   "source": [
    "Feature_importances = pd.Series(clf.feature_importances_, index=feats)\n",
    "Feature_importances.plot.barh()"
   ]
  },
  {
   "cell_type": "code",
   "execution_count": 192,
   "metadata": {},
   "outputs": [],
   "source": [
    "defenseFeats = ['o_dreb','o_blocks','o_steal','o_fouls','dreb','blocks','steal','fouls','num_ot','loc_num']\n",
    "X = transformTeamsDF[defenseFeats]\n",
    "y = transformTeamsDF['win']\n",
    "\n",
    "X_train, X_test, y_train, y_test = train_test_split(X, y, test_size=0.3, random_state=21)\n",
    "clf = RandomForestClassifier(n_estimators=100, random_state=21)\n",
    "\n",
    "clf.fit(X_train, y_train)\n",
    "# Make predictions\n",
    "y_pred = clf.predict(X_test)"
   ]
  },
  {
   "cell_type": "code",
   "execution_count": 193,
   "metadata": {},
   "outputs": [
    {
     "name": "stdout",
     "output_type": "stream",
     "text": [
      "Accuracy: 0.8456595280895696\n",
      "Precision: 0.8456927987572026\n",
      "Recall: 0.8456595280895696\n",
      "F1 Score: 0.8456556433172452\n"
     ]
    },
    {
     "data": {
      "image/png": "[encoded data removed]",
      "text/plain": [
       "<Figure size 640x480 with 2 Axes>"
      ]
     },
     "metadata": {},
     "output_type": "display_data"
    }
   ],
   "source": [
    "ClassificationMetrics(y_test, y_pred)"
   ]
  },
  {
   "cell_type": "code",
   "execution_count": 195,
   "metadata": {},
   "outputs": [
    {
     "data": {
      "text/plain": [
       "<Axes: >"
      ]
     },
     "execution_count": 195,
     "metadata": {},
     "output_type": "execute_result"
    },
    {
     "data": {
      "image/png": "[encoded data removed]",
      "text/plain": [
       "<Figure size 640x480 with 1 Axes>"
      ]
     },
     "metadata": {},
     "output_type": "display_data"
    }
   ],
   "source": [
    "Feature_importances = pd.Series(clf.feature_importances_, index=defenseFeats)\n",
    "Feature_importances.plot.barh()"
   ]
  },
  {
   "cell_type": "markdown",
   "metadata": {},
   "source": [
    "## These results look like the models are biased and memorizing the data set.  Need to clearly determine if there are duplicated rows - for example when team and o_team are sawpped because the same game is recorded for both teams - only one record is needed (one is win, one is loss)"
   ]
  },
  {
   "cell_type": "code",
   "execution_count": 197,
   "metadata": {},
   "outputs": [],
   "source": [
    "teamDF = transformTeamsDF[['season','day_num','team_id','o_team_id','loc_num','win']]"
   ]
  },
  {
   "cell_type": "code",
   "execution_count": 198,
   "metadata": {},
   "outputs": [],
   "source": [
    "sorted_df = teamDF.sort_values(by=['season', 'day_num','team_id','o_team_id','loc_num'], ascending=[True, True, True, True, True])"
   ]
  },
  {
   "cell_type": "code",
   "execution_count": 199,
   "metadata": {},
   "outputs": [
    {
     "data": {
      "text/html": [
       "<div>\n",
       "<style scoped>\n",
       "    .dataframe tbody tr th:only-of-type {\n",
       "        vertical-align: middle;\n",
       "    }\n",
       "\n",
       "    .dataframe tbody tr th {\n",
       "        vertical-align: top;\n",
       "    }\n",
       "\n",
       "    .dataframe thead th {\n",
       "        text-align: right;\n",
       "    }\n",
       "</style>\n",
       "<table border=\"1\" class=\"dataframe\">\n",
       "  <thead>\n",
       "    <tr style=\"text-align: right;\">\n",
       "      <th></th>\n",
       "      <th>season</th>\n",
       "      <th>day_num</th>\n",
       "      <th>team_id</th>\n",
       "      <th>o_team_id</th>\n",
       "      <th>loc_num</th>\n",
       "      <th>win</th>\n",
       "    </tr>\n",
       "  </thead>\n",
       "  <tbody>\n",
       "    <tr>\n",
       "      <th>1684</th>\n",
       "      <td>2003</td>\n",
       "      <td>10</td>\n",
       "      <td>1104</td>\n",
       "      <td>1328</td>\n",
       "      <td>2</td>\n",
       "      <td>1</td>\n",
       "    </tr>\n",
       "    <tr>\n",
       "      <th>108815</th>\n",
       "      <td>2003</td>\n",
       "      <td>10</td>\n",
       "      <td>1272</td>\n",
       "      <td>1393</td>\n",
       "      <td>2</td>\n",
       "      <td>1</td>\n",
       "    </tr>\n",
       "    <tr>\n",
       "      <th>143737</th>\n",
       "      <td>2003</td>\n",
       "      <td>10</td>\n",
       "      <td>1328</td>\n",
       "      <td>1104</td>\n",
       "      <td>2</td>\n",
       "      <td>0</td>\n",
       "    </tr>\n",
       "    <tr>\n",
       "      <th>186764</th>\n",
       "      <td>2003</td>\n",
       "      <td>10</td>\n",
       "      <td>1393</td>\n",
       "      <td>1272</td>\n",
       "      <td>2</td>\n",
       "      <td>0</td>\n",
       "    </tr>\n",
       "    <tr>\n",
       "      <th>52839</th>\n",
       "      <td>2003</td>\n",
       "      <td>11</td>\n",
       "      <td>1186</td>\n",
       "      <td>1458</td>\n",
       "      <td>0</td>\n",
       "      <td>0</td>\n",
       "    </tr>\n",
       "    <tr>\n",
       "      <th>...</th>\n",
       "      <td>...</td>\n",
       "      <td>...</td>\n",
       "      <td>...</td>\n",
       "      <td>...</td>\n",
       "      <td>...</td>\n",
       "      <td>...</td>\n",
       "    </tr>\n",
       "    <tr>\n",
       "      <th>232542</th>\n",
       "      <td>2025</td>\n",
       "      <td>106</td>\n",
       "      <td>1462</td>\n",
       "      <td>1139</td>\n",
       "      <td>1</td>\n",
       "      <td>1</td>\n",
       "    </tr>\n",
       "    <tr>\n",
       "      <th>234178</th>\n",
       "      <td>2025</td>\n",
       "      <td>106</td>\n",
       "      <td>1466</td>\n",
       "      <td>1480</td>\n",
       "      <td>1</td>\n",
       "      <td>1</td>\n",
       "    </tr>\n",
       "    <tr>\n",
       "      <th>234475</th>\n",
       "      <td>2025</td>\n",
       "      <td>106</td>\n",
       "      <td>1468</td>\n",
       "      <td>1122</td>\n",
       "      <td>1</td>\n",
       "      <td>1</td>\n",
       "    </tr>\n",
       "    <tr>\n",
       "      <th>235132</th>\n",
       "      <td>2025</td>\n",
       "      <td>106</td>\n",
       "      <td>1474</td>\n",
       "      <td>1146</td>\n",
       "      <td>1</td>\n",
       "      <td>1</td>\n",
       "    </tr>\n",
       "    <tr>\n",
       "      <th>235495</th>\n",
       "      <td>2025</td>\n",
       "      <td>106</td>\n",
       "      <td>1480</td>\n",
       "      <td>1466</td>\n",
       "      <td>0</td>\n",
       "      <td>0</td>\n",
       "    </tr>\n",
       "  </tbody>\n",
       "</table>\n",
       "<p>235496 rows × 6 columns</p>\n",
       "</div>"
      ],
      "text/plain": [
       "        season  day_num  team_id  o_team_id  loc_num  win\n",
       "1684      2003       10     1104       1328        2    1\n",
       "108815    2003       10     1272       1393        2    1\n",
       "143737    2003       10     1328       1104        2    0\n",
       "186764    2003       10     1393       1272        2    0\n",
       "52839     2003       11     1186       1458        0    0\n",
       "...        ...      ...      ...        ...      ...  ...\n",
       "232542    2025      106     1462       1139        1    1\n",
       "234178    2025      106     1466       1480        1    1\n",
       "234475    2025      106     1468       1122        1    1\n",
       "235132    2025      106     1474       1146        1    1\n",
       "235495    2025      106     1480       1466        0    0\n",
       "\n",
       "[235496 rows x 6 columns]"
      ]
     },
     "execution_count": 199,
     "metadata": {},
     "output_type": "execute_result"
    }
   ],
   "source": [
    "sorted_df"
   ]
  },
  {
   "cell_type": "markdown",
   "metadata": {},
   "source": [
    "## This confirms my suspicion that the analysis must be done on a team by team basis because every winner has a loser with the same stats in the opposite features, so will always be very easy to predict"
   ]
  },
  {
   "cell_type": "code",
   "execution_count": 200,
   "metadata": {},
   "outputs": [],
   "source": [
    "# Rebuild team dictionary with re-factored dataset\n",
    "teamDfDict = {}\n",
    "for i in allTeams:\n",
    "    teamDfDict[i] = transformTeamsDF[transformTeamsDF.team_id == i]"
   ]
  },
  {
   "cell_type": "code",
   "execution_count": 201,
   "metadata": {},
   "outputs": [
    {
     "data": {
      "text/plain": [
       "0.46984126984126984"
      ]
     },
     "execution_count": 201,
     "metadata": {},
     "output_type": "execute_result"
    }
   ],
   "source": [
    "teamDfDict[1101].win.mean()"
   ]
  },
  {
   "cell_type": "code",
   "execution_count": 208,
   "metadata": {},
   "outputs": [],
   "source": [
    "# Re-run with less features - b/c FGM is an obvious one to predict with\n",
    "X = teamDfDict[1101][feats]\n",
    "y = teamDfDict[1101]['win']\n",
    "\n",
    "X_train, X_test, y_train, y_test = train_test_split(X, y, test_size=0.3, random_state=42)\n",
    "clf = RandomForestClassifier(n_estimators=100, random_state=42)\n",
    "\n",
    "clf.fit(X_train, y_train)\n",
    "# Make predictions\n",
    "y_pred = clf.predict(X_test)"
   ]
  },
  {
   "cell_type": "code",
   "execution_count": 209,
   "metadata": {},
   "outputs": [
    {
     "name": "stdout",
     "output_type": "stream",
     "text": [
      "Accuracy: 0.8736842105263158\n",
      "Precision: 0.8930250153686101\n",
      "Recall: 0.8736842105263158\n",
      "F1 Score: 0.8735442329227324\n"
     ]
    },
    {
     "data": {
      "image/png": "[encoded data removed]",
      "text/plain": [
       "<Figure size 640x480 with 2 Axes>"
      ]
     },
     "metadata": {},
     "output_type": "display_data"
    }
   ],
   "source": [
    "ClassificationMetrics(y_test, y_pred)"
   ]
  },
  {
   "cell_type": "code",
   "execution_count": 210,
   "metadata": {},
   "outputs": [
    {
     "data": {
      "text/plain": [
       "<Axes: >"
      ]
     },
     "execution_count": 210,
     "metadata": {},
     "output_type": "execute_result"
    },
    {
     "data": {
      "image/png": "[encoded data removed]",
      "text/plain": [
       "<Figure size 640x480 with 1 Axes>"
      ]
     },
     "metadata": {},
     "output_type": "display_data"
    }
   ],
   "source": [
    "Feature_importances = pd.Series(clf.feature_importances_, index=feats)\n",
    "Feature_importances.plot.barh()"
   ]
  },
  {
   "cell_type": "code",
   "execution_count": 212,
   "metadata": {},
   "outputs": [
    {
     "data": {
      "text/plain": [
       "assist      0.110503\n",
       "o_assist    0.081053\n",
       "o_fgm       0.066405\n",
       "o_to        0.066167\n",
       "o_dreb      0.060899\n",
       "ftm         0.056985\n",
       "dreb        0.052960\n",
       "steal       0.052149\n",
       "fta         0.048584\n",
       "o_fouls     0.034754\n",
       "to          0.032906\n",
       "o_ftm       0.031188\n",
       "fga         0.029742\n",
       "o_fgm3      0.028321\n",
       "o_fta       0.025346\n",
       "o_steal     0.025327\n",
       "fga3        0.024274\n",
       "o_oreb      0.022497\n",
       "oreb        0.021900\n",
       "fgm3        0.021682\n",
       "fouls       0.021490\n",
       "o_blocks    0.019632\n",
       "o_fga3      0.017983\n",
       "o_fga       0.017792\n",
       "blocks      0.017137\n",
       "loc_num     0.007576\n",
       "num_ot      0.004750\n",
       "dtype: float64"
      ]
     },
     "execution_count": 212,
     "metadata": {},
     "output_type": "execute_result"
    }
   ],
   "source": [
    "Feature_importances.sort_values(ascending=False)"
   ]
  },
  {
   "cell_type": "code",
   "execution_count": 206,
   "metadata": {},
   "outputs": [],
   "source": [
    "# Re-run with Defensive features - b/c FGM is an obvious one to predict with\n",
    "X = teamDfDict[1101][defenseFeats]\n",
    "y = teamDfDict[1101]['win']\n",
    "\n",
    "X_train, X_test, y_train, y_test = train_test_split(X, y, test_size=0.3, random_state=42)\n",
    "clf = RandomForestClassifier(n_estimators=100, random_state=42)\n",
    "\n",
    "clf.fit(X_train, y_train)\n",
    "# Make predictions\n",
    "y_pred = clf.predict(X_test)\n"
   ]
  },
  {
   "cell_type": "code",
   "execution_count": 207,
   "metadata": {},
   "outputs": [
    {
     "name": "stdout",
     "output_type": "stream",
     "text": [
      "Accuracy: 0.7368421052631579\n",
      "Precision: 0.7393639377947975\n",
      "Recall: 0.7368421052631579\n",
      "F1 Score: 0.7373690651146723\n"
     ]
    },
    {
     "data": {
      "image/png": "[encoded data removed]",
      "text/plain": [
       "<Figure size 640x480 with 2 Axes>"
      ]
     },
     "metadata": {},
     "output_type": "display_data"
    }
   ],
   "source": [
    "ClassificationMetrics(y_test, y_pred)"
   ]
  },
  {
   "cell_type": "code",
   "execution_count": 230,
   "metadata": {},
   "outputs": [
    {
     "data": {
      "text/plain": [
       "108"
      ]
     },
     "execution_count": 230,
     "metadata": {},
     "output_type": "execute_result"
    }
   ],
   "source": [
    "# Per year mean / median for all metrics per team for all games - then test the theory by replacing the mean/median metrics for the stats when trying to classify\n",
    "len(teamDfDict[1101][teamDfDict[1101].season >= 2022])"
   ]
  },
  {
   "cell_type": "markdown",
   "metadata": {},
   "source": [
    "### Loop Thru the Dictionary of dataframes\n",
    "### Creating 3 datasets - Train/Test = 2022-2023-2024-2025\n",
    "### For each dataframe, run the prediction and record the stats in a new dataframe for evaluation\n"
   ]
  },
  {
   "cell_type": "code",
   "execution_count": 256,
   "metadata": {},
   "outputs": [],
   "source": [
    "def ClassMetrics(y_test, y_pred):\n",
    "    accuracy = accuracy_score(y_test, y_pred)\n",
    "    precision = precision_score(y_test, y_pred, average='weighted')\n",
    "    recall = recall_score(y_test, y_pred, average='weighted')\n",
    "    f1 = f1_score(y_test, y_pred, average='weighted')\n",
    "    return accuracy, precision, recall, f1"
   ]
  },
  {
   "cell_type": "code",
   "execution_count": 257,
   "metadata": {},
   "outputs": [],
   "source": [
    "feats = [x for  x in  feats if x not in ['fgm3','ftm','assist','o_fgm','o_fgm3','o_ftm','o_assist']]\n"
   ]
  },
  {
   "cell_type": "code",
   "execution_count": 267,
   "metadata": {},
   "outputs": [
    {
     "name": "stderr",
     "output_type": "stream",
     "text": [
      "100%|██████████| 371/371 [21:58<00:00,  3.55s/it]\n"
     ]
    },
    {
     "data": {
      "text/html": [
       "<div>\n",
       "<style scoped>\n",
       "    .dataframe tbody tr th:only-of-type {\n",
       "        vertical-align: middle;\n",
       "    }\n",
       "\n",
       "    .dataframe tbody tr th {\n",
       "        vertical-align: top;\n",
       "    }\n",
       "\n",
       "    .dataframe thead th {\n",
       "        text-align: right;\n",
       "    }\n",
       "</style>\n",
       "<table border=\"1\" class=\"dataframe\">\n",
       "  <thead>\n",
       "    <tr style=\"text-align: right;\">\n",
       "      <th></th>\n",
       "      <th>team</th>\n",
       "      <th>accuracy</th>\n",
       "      <th>train_accuracy</th>\n",
       "      <th>precision</th>\n",
       "      <th>train_precision</th>\n",
       "      <th>recall</th>\n",
       "      <th>train_recall</th>\n",
       "      <th>f1</th>\n",
       "      <th>train_f1</th>\n",
       "    </tr>\n",
       "  </thead>\n",
       "  <tbody>\n",
       "    <tr>\n",
       "      <th>0</th>\n",
       "      <td>1101</td>\n",
       "      <td>0.787879</td>\n",
       "      <td>1.0</td>\n",
       "      <td>0.831885</td>\n",
       "      <td>1.0</td>\n",
       "      <td>0.787879</td>\n",
       "      <td>1.0</td>\n",
       "      <td>0.791833</td>\n",
       "      <td>1.0</td>\n",
       "    </tr>\n",
       "    <tr>\n",
       "      <th>1</th>\n",
       "      <td>1101</td>\n",
       "      <td>0.696970</td>\n",
       "      <td>1.0</td>\n",
       "      <td>0.696970</td>\n",
       "      <td>1.0</td>\n",
       "      <td>0.696970</td>\n",
       "      <td>1.0</td>\n",
       "      <td>0.696970</td>\n",
       "      <td>1.0</td>\n",
       "    </tr>\n",
       "    <tr>\n",
       "      <th>2</th>\n",
       "      <td>1101</td>\n",
       "      <td>0.787879</td>\n",
       "      <td>1.0</td>\n",
       "      <td>0.791752</td>\n",
       "      <td>1.0</td>\n",
       "      <td>0.787879</td>\n",
       "      <td>1.0</td>\n",
       "      <td>0.789087</td>\n",
       "      <td>1.0</td>\n",
       "    </tr>\n",
       "    <tr>\n",
       "      <th>3</th>\n",
       "      <td>1101</td>\n",
       "      <td>0.575758</td>\n",
       "      <td>1.0</td>\n",
       "      <td>0.589884</td>\n",
       "      <td>1.0</td>\n",
       "      <td>0.575758</td>\n",
       "      <td>1.0</td>\n",
       "      <td>0.574198</td>\n",
       "      <td>1.0</td>\n",
       "    </tr>\n",
       "    <tr>\n",
       "      <th>4</th>\n",
       "      <td>1101</td>\n",
       "      <td>0.757576</td>\n",
       "      <td>1.0</td>\n",
       "      <td>0.757576</td>\n",
       "      <td>1.0</td>\n",
       "      <td>0.757576</td>\n",
       "      <td>1.0</td>\n",
       "      <td>0.757576</td>\n",
       "      <td>1.0</td>\n",
       "    </tr>\n",
       "    <tr>\n",
       "      <th>...</th>\n",
       "      <td>...</td>\n",
       "      <td>...</td>\n",
       "      <td>...</td>\n",
       "      <td>...</td>\n",
       "      <td>...</td>\n",
       "      <td>...</td>\n",
       "      <td>...</td>\n",
       "      <td>...</td>\n",
       "      <td>...</td>\n",
       "    </tr>\n",
       "    <tr>\n",
       "      <th>36595</th>\n",
       "      <td>1480</td>\n",
       "      <td>0.666667</td>\n",
       "      <td>1.0</td>\n",
       "      <td>0.444444</td>\n",
       "      <td>1.0</td>\n",
       "      <td>0.666667</td>\n",
       "      <td>1.0</td>\n",
       "      <td>0.533333</td>\n",
       "      <td>1.0</td>\n",
       "    </tr>\n",
       "    <tr>\n",
       "      <th>36596</th>\n",
       "      <td>1480</td>\n",
       "      <td>0.888889</td>\n",
       "      <td>1.0</td>\n",
       "      <td>0.790123</td>\n",
       "      <td>1.0</td>\n",
       "      <td>0.888889</td>\n",
       "      <td>1.0</td>\n",
       "      <td>0.836601</td>\n",
       "      <td>1.0</td>\n",
       "    </tr>\n",
       "    <tr>\n",
       "      <th>36597</th>\n",
       "      <td>1480</td>\n",
       "      <td>1.000000</td>\n",
       "      <td>1.0</td>\n",
       "      <td>1.000000</td>\n",
       "      <td>1.0</td>\n",
       "      <td>1.000000</td>\n",
       "      <td>1.0</td>\n",
       "      <td>1.000000</td>\n",
       "      <td>1.0</td>\n",
       "    </tr>\n",
       "    <tr>\n",
       "      <th>36598</th>\n",
       "      <td>1480</td>\n",
       "      <td>0.888889</td>\n",
       "      <td>1.0</td>\n",
       "      <td>0.790123</td>\n",
       "      <td>1.0</td>\n",
       "      <td>0.888889</td>\n",
       "      <td>1.0</td>\n",
       "      <td>0.836601</td>\n",
       "      <td>1.0</td>\n",
       "    </tr>\n",
       "    <tr>\n",
       "      <th>36599</th>\n",
       "      <td>1480</td>\n",
       "      <td>0.777778</td>\n",
       "      <td>1.0</td>\n",
       "      <td>0.604938</td>\n",
       "      <td>1.0</td>\n",
       "      <td>0.777778</td>\n",
       "      <td>1.0</td>\n",
       "      <td>0.680556</td>\n",
       "      <td>1.0</td>\n",
       "    </tr>\n",
       "  </tbody>\n",
       "</table>\n",
       "<p>36600 rows × 9 columns</p>\n",
       "</div>"
      ],
      "text/plain": [
       "       team  accuracy  train_accuracy  precision  train_precision    recall  \\\n",
       "0      1101  0.787879             1.0   0.831885              1.0  0.787879   \n",
       "1      1101  0.696970             1.0   0.696970              1.0  0.696970   \n",
       "2      1101  0.787879             1.0   0.791752              1.0  0.787879   \n",
       "3      1101  0.575758             1.0   0.589884              1.0  0.575758   \n",
       "4      1101  0.757576             1.0   0.757576              1.0  0.757576   \n",
       "...     ...       ...             ...        ...              ...       ...   \n",
       "36595  1480  0.666667             1.0   0.444444              1.0  0.666667   \n",
       "36596  1480  0.888889             1.0   0.790123              1.0  0.888889   \n",
       "36597  1480  1.000000             1.0   1.000000              1.0  1.000000   \n",
       "36598  1480  0.888889             1.0   0.790123              1.0  0.888889   \n",
       "36599  1480  0.777778             1.0   0.604938              1.0  0.777778   \n",
       "\n",
       "       train_recall        f1  train_f1  \n",
       "0               1.0  0.791833       1.0  \n",
       "1               1.0  0.696970       1.0  \n",
       "2               1.0  0.789087       1.0  \n",
       "3               1.0  0.574198       1.0  \n",
       "4               1.0  0.757576       1.0  \n",
       "...             ...       ...       ...  \n",
       "36595           1.0  0.533333       1.0  \n",
       "36596           1.0  0.836601       1.0  \n",
       "36597           1.0  1.000000       1.0  \n",
       "36598           1.0  0.836601       1.0  \n",
       "36599           1.0  0.680556       1.0  \n",
       "\n",
       "[36600 rows x 9 columns]"
      ]
     },
     "execution_count": 267,
     "metadata": {},
     "output_type": "execute_result"
    }
   ],
   "source": [
    "metricsDF = pd.DataFrame()\n",
    "teams, accuracy, precision, recall, f1List = [], [], [], [], []\n",
    "train_accuracy, train_precision, train_recall, train_f1 = [], [], [], []\n",
    "failedTeams = []\n",
    "\n",
    "for team in tqdm(teamDfDict.keys()):\n",
    "    for iteration in range(100):\n",
    "        preX = teamDfDict[team][teamDfDict[team].season >= 2022]\n",
    "        if len(preX) ==0:\n",
    "            failedTeams.append(team)\n",
    "            continue\n",
    "        X = preX[feats]\n",
    "        y = preX['win']\n",
    "\n",
    "        X_train, X_test, y_train, y_test = train_test_split(X, y, test_size=0.3, random_state=iteration)\n",
    "        clf = RandomForestClassifier(n_estimators=25, random_state=iteration)\n",
    "\n",
    "        clf.fit(X_train, y_train)\n",
    "        # Make predictions\n",
    "        y_pred_test = clf.predict(X_test)\n",
    "        y_pred_train = clf.predict(X_train)\n",
    "\n",
    "        acc, prec, rec, f1sc = ClassMetrics(y_train, y_pred_train)\n",
    "        teams.append(team)\n",
    "        train_accuracy.append(acc)\n",
    "        train_precision.append(prec)\n",
    "        train_recall.append(rec)\n",
    "        train_f1.append(f1sc)\n",
    "\n",
    "        acc, prec, rec, f1sc = ClassMetrics(y_test, y_pred_test)\n",
    "        accuracy.append(acc)\n",
    "        precision.append(prec)\n",
    "        recall.append(rec)\n",
    "        f1List.append(f1sc)\n",
    "\n",
    "metricsDF['team'] = teams\n",
    "metricsDF['accuracy'] = accuracy\n",
    "metricsDF['train_accuracy'] = train_accuracy\n",
    "metricsDF['precision'] = precision\n",
    "metricsDF['train_precision'] = train_precision\n",
    "metricsDF['recall'] = recall\n",
    "metricsDF['train_recall'] = train_recall\n",
    "metricsDF['f1'] = f1List\n",
    "metricsDF['train_f1'] = train_f1\n",
    "\n",
    "metricsDF\n"
   ]
  },
  {
   "cell_type": "code",
   "execution_count": 270,
   "metadata": {},
   "outputs": [
    {
     "name": "stdout",
     "output_type": "stream",
     "text": [
      "0.7428571428571429 0.739497364986752 0.7293900298778346 0.7249401007657005\n",
      "36500    0.777778\n",
      "36501    0.777778\n",
      "36502    0.888889\n",
      "36503    0.666667\n",
      "36504    0.888889\n",
      "           ...   \n",
      "36595    0.666667\n",
      "36596    0.888889\n",
      "36597    1.000000\n",
      "36598    0.888889\n",
      "36599    0.777778\n",
      "Name: accuracy, Length: 100, dtype: float64\n"
     ]
    }
   ],
   "source": [
    "print(metricsDF.accuracy.median(), metricsDF.accuracy.mean(), metricsDF.f1.median(), metricsDF.f1.mean())\n",
    "print(metricsDF[metricsDF.team==1480].accuracy)"
   ]
  },
  {
   "cell_type": "code",
   "execution_count": 294,
   "metadata": {},
   "outputs": [
    {
     "name": "stdout",
     "output_type": "stream",
     "text": [
      "Index(['season', 'day_num', 'team_id', 'o_team_id', 'loc_num', 'num_ot', 'fgm',\n",
      "       'fga', 'fgm3', 'fga3', 'ftm', 'fta', 'oreb', 'dreb', 'assist', 'to',\n",
      "       'steal', 'blocks', 'fouls', 'o_fgm', 'o_fga', 'o_fgm3', 'o_fga3',\n",
      "       'o_ftm', 'o_fta', 'o_oreb', 'o_dreb', 'o_assist', 'o_to', 'o_steal',\n",
      "       'o_blocks', 'o_fouls', 'win'],\n",
      "      dtype='object')\n"
     ]
    }
   ],
   "source": [
    "print(teamDfDict[1101].columns)\n"
   ]
  },
  {
   "cell_type": "code",
   "execution_count": 297,
   "metadata": {},
   "outputs": [
    {
     "name": "stdout",
     "output_type": "stream",
     "text": [
      "win          1.000000\n",
      "assist       0.434271\n",
      "fgm          0.336427\n",
      "dreb         0.304960\n",
      "o_to         0.288062\n",
      "ftm          0.286343\n",
      "fgm3         0.267767\n",
      "steal        0.241709\n",
      "fta          0.235812\n",
      "loc_num      0.229456\n",
      "o_fouls      0.224876\n",
      "blocks       0.163219\n",
      "oreb         0.062899\n",
      "o_oreb       0.046961\n",
      "o_team_id    0.010102\n",
      "o_fga       -0.018225\n",
      "fga3        -0.024388\n",
      "num_ot      -0.029484\n",
      "o_fga3      -0.056956\n",
      "fga         -0.085006\n",
      "o_steal     -0.163229\n",
      "to          -0.168813\n",
      "o_blocks    -0.171802\n",
      "season      -0.222210\n",
      "day_num     -0.230515\n",
      "o_fgm3      -0.249404\n",
      "fouls       -0.322696\n",
      "o_fta       -0.362136\n",
      "o_dreb      -0.392300\n",
      "o_assist    -0.392573\n",
      "o_ftm       -0.403873\n",
      "o_fgm       -0.432016\n",
      "team_id           NaN\n",
      "Name: win, dtype: float64\n"
     ]
    }
   ],
   "source": [
    "win_feats = feats.append('win')\n",
    "corr = teamDfDict[1102].corr().win\n",
    "#sns.heatmap(corr)\n",
    "print(corr.sort_values(ascending=False))"
   ]
  },
  {
   "cell_type": "markdown",
   "metadata": {},
   "source": [
    "## Different idea - what about sum everything then calculate the percentage difference between the team and opposing team in aggregate.  store as the teams profile\n",
    "## then try to see if it work by running them against each other in each season?"
   ]
  },
  {
   "cell_type": "code",
   "execution_count": 301,
   "metadata": {},
   "outputs": [],
   "source": [
    "testDF = teamDfDict[1102].copy(deep=True)\n",
    "col_sums = testDF.sum()"
   ]
  },
  {
   "cell_type": "code",
   "execution_count": 302,
   "metadata": {},
   "outputs": [
    {
     "data": {
      "text/plain": [
       "season       1337348\n",
       "day_num        46744\n",
       "team_id       731728\n",
       "o_team_id     868186\n",
       "loc_num          460\n",
       "num_ot            26\n",
       "fgm            14687\n",
       "fga            32734\n",
       "fgm3            5053\n",
       "fga3           14193\n",
       "ftm             7909\n",
       "fta            11377\n",
       "oreb            4532\n",
       "dreb           13929\n",
       "assist          9103\n",
       "to              7984\n",
       "steal           4082\n",
       "blocks          1517\n",
       "fouls          11541\n",
       "o_fgm          15162\n",
       "o_fga          33694\n",
       "o_fgm3          4694\n",
       "o_fga3         13470\n",
       "o_ftm           8600\n",
       "o_fta          12089\n",
       "o_oreb          6055\n",
       "o_dreb         15143\n",
       "o_assist        8370\n",
       "o_to            8511\n",
       "o_steal         3853\n",
       "o_blocks        2009\n",
       "o_fouls        11847\n",
       "win              285\n",
       "dtype: int64"
      ]
     },
     "execution_count": 302,
     "metadata": {},
     "output_type": "execute_result"
    }
   ],
   "source": [
    "col_sums"
   ]
  },
  {
   "cell_type": "code",
   "execution_count": null,
   "metadata": {},
   "outputs": [],
   "source": []
  },
  {
   "cell_type": "code",
   "execution_count": null,
   "metadata": {},
   "outputs": [],
   "source": []
  }
 ],
 "metadata": {
  "kernelspec": {
   "display_name": "ml-venv311",
   "language": "python",
   "name": "python3"
  },
  "language_info": {
   "codemirror_mode": {
    "name": "ipython",
    "version": 3
   },
   "file_extension": ".py",
   "mimetype": "text/x-python",
   "name": "python",
   "nbconvert_exporter": "python",
   "pygments_lexer": "ipython3",
   "version": "3.11.5"
  }
 },
 "nbformat": 4,
 "nbformat_minor": 2
}
